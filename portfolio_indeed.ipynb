{
 "cells": [
  {
   "cell_type": "markdown",
   "metadata": {
    "focus": false,
    "id": "69b9a648-bcc7-490d-9f9b-ea244d156bd6"
   },
   "source": [
    "# Web Scraping for Indeed.com & Predicting Salaries"
   ]
  },
  {
   "cell_type": "markdown",
   "metadata": {
    "focus": false,
    "id": "34681254-c802-462f-829d-8894d0772d08"
   },
   "source": [
    "### Problem Statement:\n",
    "#### Can salaries for Data Scientist job listings be predicted as high or low, in comparison to the median salary posted, using various features of the posting? What will best predict whether it's higher or lower than the median?"
   ]
  },
  {
   "cell_type": "markdown",
   "metadata": {},
   "source": [
    "## Step I. Check out the data"
   ]
  },
  {
   "cell_type": "code",
   "execution_count": 1,
   "metadata": {
    "collapsed": true
   },
   "outputs": [],
   "source": [
    "import warnings\n",
    "warnings.filterwarnings('ignore')\n",
    "\n",
    "%reload_ext autotime"
   ]
  },
  {
   "cell_type": "code",
   "execution_count": 2,
   "metadata": {},
   "outputs": [
    {
     "name": "stdout",
     "output_type": "stream",
     "text": [
      "time: 1.13 s\n"
     ]
    }
   ],
   "source": [
    "import requests\n",
    "from bs4 import BeautifulSoup\n",
    "import datetime\n",
    "import time\n",
    "import re\n",
    "import numpy as np\n",
    "\n",
    "# I manully ran the search for data scienctist salaries and found the URL format\n",
    "# The search is for title of data scientist and salary above $20,000\n",
    "\n",
    "url = \"http://www.indeed.com/jobs?q=data+scientist+%2420%2C000\"\n",
    "\n",
    "## x will indicate the number of the first listing on a particular page \n",
    "## each page lists 10 posts (and 5 sponsored posts)\n",
    "page = requests.get(url).content\n",
    "soup = BeautifulSoup(page,'lxml')"
   ]
  },
  {
   "cell_type": "markdown",
   "metadata": {},
   "source": [
    "#### Notes:"
   ]
  },
  {
   "cell_type": "markdown",
   "metadata": {},
   "source": [
    "- The HTML can be narrowed down to the contents within ```<td id=\"resultsCol\"> ... </td>```. This makes it easier to find what we're looking for by eliminating the script section and everything on the side panes."
   ]
  },
  {
   "cell_type": "code",
   "execution_count": 4,
   "metadata": {},
   "outputs": [
    {
     "name": "stdout",
     "output_type": "stream",
     "text": [
      "<td id=\"resultsCol\">\n",
      "<div class=\"messageContainer\">\n",
      "<script type=\"text/javascript\">\n",
      "function setJaPromoCookie() {\n",
      "var expires = new Date();\n",
      "expires.setTime(expires.getTime() + (5 * 365 * 24 * 60 * 60 * 1000));\n",
      "setCookie(\"showJaPromo\", \"1\", expires);\n",
      "}\n",
      "function setRefineByCookie(refineByTypes) {\n",
      "var expires = new Date();\n",
      "expires.setTime(expires.getTime() + (10 * 1000));\n",
      "for (var i = 0; i < refineByTypes.length; i++) {\n",
      "setCookie(refineByTypes[i], \"1\", expires);\n",
      "}\n",
      "}\n",
      "</script>\n",
      "</div>\n",
      "<style type=\"text/css\">\n",
      "#increased_radius_result {\n",
      "font-size: 16px;\n",
      "font-style: italic;\n",
      "}\n",
      "#original_radius_result{\n",
      "font-size: 13px;\n",
      "font-style: italic;\n",
      "color: #666666;\n",
      "}\n",
      "</style>\n",
      "<div class=\"resultsTop\"><div id=\"searchCount\">Jobs 1 to 10 of 21,491</div>\n",
      "<div data-tn-section=\"primePromo\" id=\"primePromo\">\n",
      "<span class=\"new\">New!</span> <a href=\"/promo/prime\" onclick=\"this.href = appendParamsOnce( this.href, '?from=serptop&amp;subfrom=primeprmtop&amp;trk.origin=jobsearch&amp;trk.variant=primeprmtop&amp;trk.tk=1bhdgud8k18jh5sa&amp;vertical=TECH&amp;x_isid=serptop&amp;x_ikw=data+scientist+%2420%2C000&amp;x_sid=serptop&amp;x_kw=data+scientist+%2420%2C000')\">Join Indeed Prime</a> - Get offers from great tech companies</div></div>\n",
      "<script type=\"text/javascript\">\n",
      "window['sjl'] = \"WubEucQIlF\";\n",
      "</script>\n",
      "<style type=\"text/css\">\n",
      ".WubEucQIlF { margin: 0 0 6px 0; padding: 0; _zoom:100%; border: 0; background-color: #fff; }\n",
      ".WubEucQIlF .jobtitle { white-space: nowrap; float:@LINE_START@; _float: none; }\n",
      ".WubEucQIlF .sdn { color: #CD29C0; }\n",
      ".GJUbY6D4wuk .brdr { margin-top: 12px; }\n",
      ".hkvp2VD .brdr { margin-bottom: 12px; }\n",
      "@media only screen and (min-height:780px) {\n",
      ".GJUbY6D4wuk { margin-bottom: 9px; }\n",
      ".hkvp2VD .brdr,\n",
      ".hZS0Wc2H,\n",
      ".GJUbY6D4wuk .brdr { margin-bottom: 9px; margin-top: 9px; }\n",
      "}\n",
      "</style>\n",
      "<style type=\"text/css\">\n",
      ".result-tab:empty {margin-top: 0;}\n",
      ".GJUbY6D4wuk {\n",
      "margin-bottom: 0;\n",
      "}\n",
      "@media only screen and (min-height:780px) {\n",
      ".GJUbY6D4wuk {\n",
      "margin-bottom: 0;\n",
      "}\n",
      "}\n",
      "</style>\n",
      "<div></div>\n",
      "<a id=\"jobPostingsAnchor\" tabindex=\"-1\"></a>\n",
      "<div class=\"WubEucQIlF GJUbY6D4wuk\">\n",
      "<div class=\"row result\" data-jk=\"bfc578d23604c2fc\" id=\"pj_bfc578d23604c2fc\">\n",
      "<!-- Previously this variable was used to indicate job board jobs, we have replaced that with a more accurate source type check -->\n",
      "<a class=\"jobtitle turnstileLink\" data-tn-element=\"jobTitle\" href=\"/pagead/clk?mo=r&amp;ad=-6NYlbfkN0D_L61JJZVH4SBayrvFEFSIDhxtpSFhtUBfRgL_yS-y4KQnwxgyzWhCsPoBnwyjC7i1224RkXyNjCKyMmAnielysSbfAScZoI_OgdN6cH2LUiHe9CeKg9jliNU9_-djYbNyJ2RAQGYO0xiVwMIc48Gv2SU4pEDHN7m15eB7x73iTEBPM8wde0m5wE7qft5c1dgVbTtYuirrJ2MXi9rtgLqz_3z08os3klbEk0GHijoK6eLDwntLPeFfr_xOkMIszVbY7ND_um_nHwqIVA9lBSsA7fBd3NYR17wN-15QAauVNP4tWBdZdpy033Nv_vgEHgH6O9Hz3KRwdtj2ZeLqnT1meQmHWf-Gnbw41IN0pJwRzm0hokMz9Q-UuyORdDuPt3-5X7v9N3IHUaeM7qKkWprW1kxiCaoU9Pefy2_xxl35xabC-xqCbXAyXSf2xvRndf9KyuYie6AYtnBm6V22pbM65uMS7kdZM0yFQhHpIG2GnKKG4vBrBxpn3yUYO7M8kX8kivKGnkynA9NIY8D1q_-hoTWIEn7l245CVw6AmDCRFdFTaqg8vqFCxXlxKvyk3UbduU1EpGT66HM8X5TebNvOoZUzvecR4zbrctZR8KUXa_3_xuhhS692adF_k0TENlH3kKF9ciTIzZh5WXG3cVszyFJf-wDh3E5ZxqeivjbXE-DXY-1Re1Wz_kWb1BfRrMdfigQuItMUd3ZOj9v0yLbtWhJDA_uE1nBn-A3z4mF6pNkFRIqLFE31v8QYj50yhtF8NSR1ny-YxXwMfJYzHNmbWKTtRloQzpHG6kyCOyGEW8FxlNBvJk49yVGY0YcbGZ36RRm45Ek6QLsxt2D0tS8ZtkK1mZyhyq_vAnRLe41m367xi--p8wKwsk_ntnHPnVUW8AEUTJ91pycaiqK5-nLPm2blu-1HbbqL8lMtnEghTNUOD5kosJwFtoyQFF4SLf9Oh1xwepQhqEEFffPjbG007k1VjztVdhNlOEn3Y-nQX4OEdHQfagG7RnTDoi_JyjUQGlR7sBLb-exQSCcJrExd&amp;p=1&amp;sk=&amp;fvj=0\" id=\"sja1\" onclick=\"setRefineByCookie(['salest']); sjoc('sja1',0); convCtr('SJ', pingUrlsForGA)\" onmousedown=\"sjomd('sja1'); clk('sja1');\" rel=\"nofollow\" target=\"_blank\" title=\"Statistical Modeling Analyst\">Statistical Modeling Analyst</a>\n",
      "<br/>\n",
      "<div class=\"sjcl\">\n",
      "<span class=\"company\">\n",
      "<a class=\"turnstileLink\" data-tn-element=\"companyName\" href=\"/cmp/Nestle-USA\" onmousedown=\"this.href = appendParamsOnce(this.href, 'from=SERP&amp;campaignid=serp-linkcompanyname&amp;fromjk=bfc578d23604c2fc&amp;jcid=bb384ca0a6d3d491')\" target=\"_blank\">\n",
      "        Nestle USA</a></span>\n",
      "\n",
      " - <a class=\"turnstileLink slNoUnderline \" data-tn-element=\"reviewStars\" data-tn-variant=\"cmplinktst2\" href=\"/cmp/Nestle-USA/reviews\" onmousedown=\"this.href = appendParamsOnce(this.href, '?campaignid=cmplinktst2&amp;from=SERP&amp;jt=Statistical+Modeling+Analyst&amp;fromjk=bfc578d23604c2fc&amp;jcid=bb384ca0a6d3d491');\" target=\"_blank\" title=\"Nestle USA reviews\">\n",
      "<span class=\"ratings\"><span class=\"rating\" style=\"width:43.8px\"><!-- --></span></span>\n",
      "<span class=\"slNoUnderline\">724 reviews</span></a>\n",
      " - <span class=\"location\">Arlington, VA</span>\n",
      "</div>\n",
      "<table border=\"0\" cellpadding=\"0\" cellspacing=\"0\"><tr><td class=\"snip\">\n",
      "<span class=\"summary\">Demand signal <b>data</b> will be incorporated into forecast reporting and utilized for statistical modeling. Participate in demand signal <b>data</b> reporting and analysis...</span>\n",
      "</td></tr></table>\n",
      "<div class=\"sjCapt\">\n",
      "<div class=\"result-link-bar-container\">\n",
      "<div class=\"result-link-bar\"><span class=\" jasx_serpsjlabel_poststGray \">Sponsored</span> - <span class=\"tt_set\" id=\"tt_set_10\"><a class=\"sl resultLink save-job-link \" href=\"#\" id=\"sj_bfc578d23604c2fc\" onclick=\"changeJobState('bfc578d23604c2fc', 'save', 'linkbar', true); return false;\" title=\"Save this job to my.indeed\">save job</a></span><div class=\"edit_note_content\" id=\"editsaved2_bfc578d23604c2fc\" style=\"display:none;\"></div><script>window['sj_result_bfc578d23604c2fc'] = {\"showSource\": false, \"source\": \"Nestle USA\", \"loggedIn\": false, \"showMyJobsLinks\": false,\"undoAction\": \"unsave\",\"jobKey\": \"bfc578d23604c2fc\", \"myIndeedAvailable\": true, \"showMoreActionsLink\": false, \"resultNumber\": 10, \"jobStateChangedToSaved\": false, \"searchState\": \"q=data scientist $20,000&amp;\", \"basicPermaLink\": \"http://www.indeed.com\", \"saveJobFailed\": false, \"removeJobFailed\": false, \"requestPending\": false, \"notesEnabled\": false, \"currentPage\" : \"serp\", \"mjwebtransgroupactive\" : false, \"sponsored\" : true,\"showSponsor\" : true,\"reportJobButtonEnabled\": false, \"showMyJobsHired\": false, \"showSaveForSponsored\": true, \"showJobAge\": true};</script></div></div>\n",
      "<div class=\"tab-container\">\n",
      "<div class=\"sign-in-container result-tab\"></div>\n",
      "<div class=\"tellafriend-container result-tab email_job_content\"></div>\n",
      "</div>\n",
      "</div>\n",
      "</div>\n",
      "<div class=\"row result\" data-jk=\"815fb5476b35fef5\" id=\"pj_815fb5476b35fef5\">\n",
      "<!-- Previously this variable was used to indicate job board jobs, we have replaced that with a more accurate source type check -->\n",
      "<a class=\"jobtitle turnstileLink\" data-tn-element=\"jobTitle\" href=\"/pagead/clk?mo=r&amp;ad=-6NYlbfkN0CiRNM7CVr8YueLFKlzwbFWI0o7IjV438l4sVrvKZ0fliTfoNv_ONF5FvJKNaJe41O5vUOqHByFV-Kbj5Y3ThgQQObxPdR8ypSHPTD0Fer3x1OFY1fvzVKlLPcdMTrwb68jqlrGSZRldfv-jF--rtcj53F9KwZuE5gL0AJv2QRBgo3T3Yd0T9l1CD_Jy0y9DoYdRirUKZB7WJ4h1NeAIexcibP7J4SulWkb66J0nPi8nkAAuDYuMDOVcwvea9zIrnuLChykTbRIW2aKIjcsdi5WJAhK5vxXtkmhdejc8asP198HTS-UIHaqgJaOf8QdsbJvTmJeeHtK4vFTfOc5bfW0idDSgzTRgo0IYIzEhzZbsz1fsE48PDn1-HtkKTZThxMuiZl035Vy1e0obI0HVXl2ou274-WssyAfEAJ8T1MOt40y4ou62gIdM4G0GSU33ImyIFStxHiBmBqPU2maqe47q9SRylxHfkfN5bi3vVs3Ero67qmNlST1&amp;p=2&amp;sk=&amp;fvj=0\" id=\"sja2\" onclick=\"setRefineByCookie(['salest']); sjoc('sja2',0); convCtr('SJ', pingUrlsForGA)\" onmousedown=\"sjomd('sja2'); clk('sja2');\" rel=\"nofollow\" target=\"_blank\" title=\"Data Scientist\"><b>Data</b> <b>Scientist</b></a>\n",
      "<br/>\n",
      "<div class=\"sjcl\">\n",
      "<span class=\"company\">\n",
      "<a class=\"turnstileLink\" data-tn-element=\"companyName\" href=\"/cmp/Indeed\" onmousedown=\"this.href = appendParamsOnce(this.href, 'from=SERP&amp;campaignid=serp-linkcompanyname&amp;fromjk=815fb5476b35fef5&amp;jcid=d6ef41e202aa2c0b')\" target=\"_blank\">\n",
      "        Indeed</a></span>\n",
      "\n",
      " - <a class=\"turnstileLink slNoUnderline \" data-tn-element=\"reviewStars\" data-tn-variant=\"cmplinktst2\" href=\"/cmp/Indeed/reviews\" onmousedown=\"this.href = appendParamsOnce(this.href, '?campaignid=cmplinktst2&amp;from=SERP&amp;jt=Data+Scientist&amp;fromjk=815fb5476b35fef5&amp;jcid=d6ef41e202aa2c0b');\" target=\"_blank\" title=\"Indeed reviews\">\n",
      "<span class=\"ratings\"><span class=\"rating\" style=\"width:54.0px\"><!-- --></span></span>\n",
      "<span class=\"slNoUnderline\">169 reviews</span></a>\n",
      " - <span class=\"location\">Austin, TX 78731</span>\n",
      "</div>\n",
      "<table border=\"0\" cellpadding=\"0\" cellspacing=\"0\"><tr><td class=\"snip\">\n",
      "<span class=\"summary\">As a <b>Data</b> <b>Scientist</b> at Indeed your role is to follow the <b>data</b>. Can fish for <b>data</b>:. Have full stack experience in <b>data</b> collection, aggregation, analysis,...</span>\n",
      "</td></tr></table>\n",
      "<div class=\"sjCapt\">\n",
      "<div class=\"iaP\">\n",
      "<span class=\"iaLabel\"> Easily apply</span>\n",
      "</div>\n",
      "<div class=\"result-link-bar-container\">\n",
      "<div class=\"result-link-bar\"><span class=\" jasx_serpsjlabel_poststGray \">Sponsored</span> - <span class=\"tt_set\" id=\"tt_set_11\"><a class=\"sl resultLink save-job-link \" href=\"#\" id=\"sj_815fb5476b35fef5\" onclick=\"changeJobState('815fb5476b35fef5', 'save', 'linkbar', true); return false;\" title=\"Save this job to my.indeed\">save job</a></span><div class=\"edit_note_content\" id=\"editsaved2_815fb5476b35fef5\" style=\"display:none;\"></div><script>window['sj_result_815fb5476b35fef5'] = {\"showSource\": false, \"source\": \"Indeed\", \"loggedIn\": false, \"showMyJobsLinks\": false,\"undoAction\": \"unsave\",\"jobKey\": \"815fb5476b35fef5\", \"myIndeedAvailable\": true, \"showMoreActionsLink\": false, \"resultNumber\": 11, \"jobStateChangedToSaved\": false, \"searchState\": \"q=data scientist $20,000&amp;\", \"basicPermaLink\": \"http://www.indeed.com\", \"saveJobFailed\": false, \"removeJobFailed\": false, \"requestPending\": false, \"notesEnabled\": false, \"currentPage\" : \"serp\", \"mjwebtransgroupactive\" : false, \"sponsored\" : true,\"showSponsor\" : true,\"reportJobButtonEnabled\": false, \"showMyJobsHired\": false, \"showSaveForSponsored\": true, \"showJobAge\": true};</script></div></div>\n",
      "<div class=\"tab-container\">\n",
      "<div class=\"sign-in-container result-tab\"></div>\n",
      "<div class=\"tellafriend-container result-tab email_job_content\"></div>\n",
      "</div>\n",
      "</div>\n",
      "</div>\n",
      "<div class=\"row sjlast result\" data-jk=\"a48ba5991b55a989\" id=\"pj_a48ba5991b55a989\">\n",
      "<!-- Previously this variable was used to indicate job board jobs, we have replaced that with a more accurate source type check -->\n",
      "<a class=\"jobtitle turnstileLink\" data-tn-element=\"jobTitle\" href=\"/pagead/clk?mo=r&amp;ad=-6NYlbfkN0AWCJ_wsjP2XpiEVpKxbmnSD7nn2vhw0wOf7OXX__gongTOnUpOjp_kYMJFeI3fpxPx8K5FMyAMRAhTlY7C6XJj2qZ4-GP-dm5Y6-0UjlcN1J4IZXrgeqFUB_Q7GKrqk5mkdCXfLpC_cWJzdgZigG8BV-W4CVPAcOHlhPPXJ7zL8X8esdGR_c3cT0tA7AQqiMT3LOv5onZseJUu7Y0RgNGwY0CsGesLuEkADbqLyv7nC9kjjeMquKTuIbGwvpSlYgBxvgqI5uE_L2Ob-oR-HuVS8w3nVurUwl-zdyfukK1pdIa89NfpVn9mD4UN5IVMa8R1sXJIziTEY8DxGGNhF0aZmju58gGA9lYvR_jLCL40YBd1Qx-PGaZ6ggbMD2PteUSBaoPH-vv_3aGLwSNfrjApJCa4S4J2aVwtvzfqHMCz5rvcvOxoiZ9K30-vkHLkaq2QchIvWbnEB4iNz4mwIOBQPgCzBEGzb9sVrDI623v01UzOGSFzliXf1qhlUFtEQl-nDtdl8TI_nkD9PgUfPKJN87wYY9L6R6JZlp-xHsOvNSdyEtgbnpfPY_mHnkrxzDL_Hr2zgXqjf2VNBNii5Y7L&amp;p=3&amp;sk=&amp;fvj=0\" id=\"sja3\" onclick=\"setRefineByCookie(['salest']); sjoc('sja3',0); convCtr('SJ', pingUrlsForGA)\" onmousedown=\"sjomd('sja3'); clk('sja3');\" rel=\"nofollow\" target=\"_blank\" title=\"Data Scientist - Big Data\"><b>Data</b> <b>Scientist</b> - Big <b>Data</b></a>\n",
      "<br/>\n",
      "<div class=\"sjcl\">\n",
      "<span class=\"company\">\n",
      "<a class=\"turnstileLink\" data-tn-element=\"companyName\" href=\"/cmp/The-Washington-Post\" onmousedown=\"this.href = appendParamsOnce(this.href, 'from=SERP&amp;campaignid=serp-linkcompanyname&amp;fromjk=a48ba5991b55a989&amp;jcid=9502fdf46127ff92')\" target=\"_blank\">\n",
      "        The Washington Post</a></span>\n",
      "\n",
      " - <a class=\"turnstileLink slNoUnderline \" data-tn-element=\"reviewStars\" data-tn-variant=\"cmplinktst2\" href=\"/cmp/The-Washington-Post/reviews\" onmousedown=\"this.href = appendParamsOnce(this.href, '?campaignid=cmplinktst2&amp;from=SERP&amp;jt=Data+Scientist+-+Big+Data&amp;fromjk=a48ba5991b55a989&amp;jcid=9502fdf46127ff92');\" target=\"_blank\" title=\"The Washington Post reviews\">\n",
      "<span class=\"ratings\"><span class=\"rating\" style=\"width:51.6px\"><!-- --></span></span>\n",
      "<span class=\"slNoUnderline\">111 reviews</span></a>\n",
      " - <span class=\"location\">Washington, DC 20005</span>\n",
      "</div>\n",
      "<table border=\"0\" cellpadding=\"0\" cellspacing=\"0\"><tr><td class=\"snip\">\n",
      "<span class=\"summary\">Washington Post is looking for passionate <b>Data</b> <b>Scientists</b> to join our Big <b>Data</b> Analytics team. <b>Data</b> <b>scientist</b> will utilize the <b>data</b> from the platform and design...</span>\n",
      "</td></tr></table>\n",
      "<div class=\"sjCapt\">\n",
      "<div class=\"result-link-bar-container\">\n",
      "<div class=\"result-link-bar\"><span class=\" jasx_serpsjlabel_poststGray \">Sponsored</span> - <span class=\"tt_set\" id=\"tt_set_12\"><a class=\"sl resultLink save-job-link \" href=\"#\" id=\"sj_a48ba5991b55a989\" onclick=\"changeJobState('a48ba5991b55a989', 'save', 'linkbar', true); return false;\" title=\"Save this job to my.indeed\">save job</a></span><div class=\"edit_note_content\" id=\"editsaved2_a48ba5991b55a989\" style=\"display:none;\"></div><script>window['sj_result_a48ba5991b55a989'] = {\"showSource\": false, \"source\": \"The Washington Post\", \"loggedIn\": false, \"showMyJobsLinks\": false,\"undoAction\": \"unsave\",\"jobKey\": \"a48ba5991b55a989\", \"myIndeedAvailable\": true, \"showMoreActionsLink\": false, \"resultNumber\": 12, \"jobStateChangedToSaved\": false, \"searchState\": \"q=data scientist $20,000&amp;\", \"basicPermaLink\": \"http://www.indeed.com\", \"saveJobFailed\": false, \"removeJobFailed\": false, \"requestPending\": false, \"notesEnabled\": false, \"currentPage\" : \"serp\", \"mjwebtransgroupactive\" : false, \"sponsored\" : true,\"showSponsor\" : true,\"reportJobButtonEnabled\": false, \"showMyJobsHired\": false, \"showSaveForSponsored\": true, \"showJobAge\": true};</script></div></div>\n",
      "<div class=\"tab-container\">\n",
      "<div class=\"sign-in-container result-tab\"></div>\n",
      "<div class=\"tellafriend-container result-tab email_job_content\"></div>\n",
      "</div>\n",
      "</div>\n",
      "</div>\n",
      "</div>\n",
      "<div class=\" row result\" data-jk=\"c4a8e4fae990ff66\" data-tn-component=\"organicJob\" id=\"p_c4a8e4fae990ff66\" itemscope=\"\" itemtype=\"http://schema.org/JobPosting\">\n",
      "<h2 class=\"jobtitle\" id=\"jl_c4a8e4fae990ff66\">\n",
      "<a class=\"turnstileLink\" data-tn-element=\"jobTitle\" href=\"/rc/clk?jk=c4a8e4fae990ff66&amp;fccid=94a6b16940c75d79\" itemprop=\"title\" onclick=\"setRefineByCookie(['salest']); return rclk(this,jobmap[0],true,1);\" onmousedown=\"return rclk(this,jobmap[0],1);\" rel=\"nofollow\" target=\"_blank\" title=\"STAFF DATA SCIENTIST / DEEP LEARNING\">STAFF <b>DATA</b> <b>SCIENTIST</b> / DEEP LEARNING</a>\n",
      "</h2>\n",
      "<span class=\"company\" itemprop=\"hiringOrganization\" itemtype=\"http://schema.org/Organization\">\n",
      "<span itemprop=\"name\">\n",
      "    TERADEEP INC.</span>\n",
      "</span>\n",
      "\n",
      " - <span itemprop=\"jobLocation\" itemscope=\"\" itemtype=\"http://schema.org/Place\"><span class=\"location\" itemprop=\"address\" itemscope=\"\" itemtype=\"http://schema.org/Postaladdress\"><span itemprop=\"addressLocality\">Campbell, CA</span></span></span>\n",
      "<table border=\"0\" cellpadding=\"0\" cellspacing=\"0\">\n",
      "<tr>\n",
      "<td class=\"snip\">\n",
      "<span class=\"no-wrap\">$120,000 - $160,000 a year</span>\n",
      "<div>\n",
      "<span class=\"summary\" itemprop=\"description\">\n",
      "Large Scale <b>Data</b> Extraction and Preparation. Develops Deep Learning HW &amp; SW Acceleration solutions for datacenter applications....</span>\n",
      "</div>\n",
      "<div class=\"iaP\">\n",
      "<span class=\"iaLabel\"> Easily apply</span>\n",
      "</div>\n",
      "<div class=\"result-link-bar-container\">\n",
      "<div class=\"result-link-bar\"><span class=\"date\">11 hours ago</span> <span class=\"tt_set\" id=\"tt_set_0\">  -  <a class=\"sl resultLink save-job-link \" href=\"#\" id=\"sj_c4a8e4fae990ff66\" onclick=\"changeJobState('c4a8e4fae990ff66', 'save', 'linkbar', false); return false;\" title=\"Save this job to my.indeed\">save job</a> - <a class=\"sl resultLink more-link \" href=\"#\" id=\"tog_0\" onclick=\"toggleMoreLinks('c4a8e4fae990ff66'); return false;\">more...</a></span><div class=\"edit_note_content\" id=\"editsaved2_c4a8e4fae990ff66\" style=\"display:none;\"></div><script>window['result_c4a8e4fae990ff66'] = {\"showSource\": false, \"source\": \"TERADEEP INC.\", \"loggedIn\": false, \"showMyJobsLinks\": false,\"undoAction\": \"unsave\",\"relativeJobAge\": \"11 hours ago\",\"jobKey\": \"c4a8e4fae990ff66\", \"myIndeedAvailable\": true, \"showMoreActionsLink\": true, \"resultNumber\": 0, \"jobStateChangedToSaved\": false, \"searchState\": \"q=data scientist $20,000&amp;\", \"basicPermaLink\": \"http://www.indeed.com\", \"saveJobFailed\": false, \"removeJobFailed\": false, \"requestPending\": false, \"notesEnabled\": true, \"currentPage\" : \"serp\", \"mjwebtransgroupactive\" : false, \"sponsored\" : false,\"reportJobButtonEnabled\": false, \"showMyJobsHired\": false, \"showSaveForSponsored\": false, \"showJobAge\": true};</script></div></div>\n",
      "<div class=\"tab-container\">\n",
      "<div class=\"more-links-container result-tab\" id=\"tt_display_0\" style=\"display:none;\"><a class=\"close-link closeLink\" href=\"#\" onclick=\"toggleMoreLinks('c4a8e4fae990ff66'); return false;\" title=\"Close\"></a><div class=\"more_actions\" id=\"more_0\"><ul><li><span class=\"mat\">View all <a href=\"/jobs?q=Teradeep+Inc&amp;l=Campbell,+CA&amp;nc=jasx\" rel=\"nofollow\">TERADEEP INC. jobs in Campbell, CA</a> - <a href=\"/l-Campbell,-CA-jobs.html\">Campbell jobs</a></span></li><li><span class=\"mat\">Salary Search: <a href=\"/salaries/Data-Scientist-Salaries,-Campbell-CA\" onmousedown=\"this.href = appendParamsOnce(this.href, '?campaignid=serp-more&amp;fromjk=c4a8e4fae990ff66&amp;from=serp-more');\">Data Scientist salaries in Campbell, CA</a></span></li><li><span class=\"mat\">Related forums: <a href=\"/forum/loc/Campbell-California.html\">Campbell, California</a></span></li></ul></div></div><div class=\"dya-container result-tab\"></div>\n",
      "<div class=\"tellafriend-container result-tab email_job_content\"></div>\n",
      "<div class=\"sign-in-container result-tab\"></div>\n",
      "<div class=\"notes-container result-tab\"></div>\n",
      "</div>\n",
      "</td>\n",
      "</tr>\n",
      "</table>\n",
      "</div>\n",
      "<div class=\" row result\" data-jk=\"6d655f1d63c5aac9\" data-tn-component=\"organicJob\" id=\"p_6d655f1d63c5aac9\" itemscope=\"\" itemtype=\"http://schema.org/JobPosting\">\n",
      "<h2 class=\"jobtitle\" id=\"jl_6d655f1d63c5aac9\">\n",
      "<a class=\"turnstileLink\" data-tn-element=\"jobTitle\" href=\"/rc/clk?jk=6d655f1d63c5aac9&amp;fccid=2c62e4de04b8f952\" itemprop=\"title\" onclick=\"setRefineByCookie(['salest']); return rclk(this,jobmap[1],true,0);\" onmousedown=\"return rclk(this,jobmap[1],0);\" rel=\"nofollow\" target=\"_blank\" title=\"Data Scientist, North America Supply Chain Advanced Analytics\"><b>Data</b> <b>Scientist</b>, North America Supply Chain Advanced Analytic...</a>\n",
      "</h2>\n",
      "<span class=\"company\" itemprop=\"hiringOrganization\" itemtype=\"http://schema.org/Organization\">\n",
      "<span itemprop=\"name\">\n",
      "<a href=\"/cmp/Nike\" onmousedown=\"this.href = appendParamsOnce(this.href, 'from=SERP&amp;campaignid=serp-linkcompanyname&amp;fromjk=6d655f1d63c5aac9&amp;jcid=e4a0ebc7ef5e730e')\" target=\"_blank\">\n",
      "        NIKE INC</a></span>\n",
      "</span>\n",
      "\n",
      " - <a class=\"turnstileLink slNoUnderline \" data-tn-element=\"reviewStars\" data-tn-variant=\"cmplinktst2\" href=\"/cmp/Nike/reviews\" onmousedown=\"this.href = appendParamsOnce(this.href, '?campaignid=cmplinktst2&amp;from=SERP&amp;jt=Data+Scientist%2C+North+America+Supply+Chain+Advanced+Analytics&amp;fromjk=6d655f1d63c5aac9&amp;jcid=e4a0ebc7ef5e730e');\" target=\"_blank\" title=\"Nike reviews\">\n",
      "<span class=\"ratings\"><span class=\"rating\" style=\"width:52.2px\"><!-- --></span></span>\n",
      "<span class=\"slNoUnderline\">3,309 reviews</span></a>\n",
      " - <span itemprop=\"jobLocation\" itemscope=\"\" itemtype=\"http://schema.org/Place\"><span class=\"location\" itemprop=\"address\" itemscope=\"\" itemtype=\"http://schema.org/Postaladdress\"><span itemprop=\"addressLocality\">Portland, OR</span></span></span>\n",
      "<table border=\"0\" cellpadding=\"0\" cellspacing=\"0\">\n",
      "<tr>\n",
      "<td class=\"snip\">\n",
      "<div>\n",
      "<span class=\"summary\" itemprop=\"description\">\n",
      "North America Supply Chain Advanced Analytics <b>Data</b> <b>Scientists</b> work to solve challenging strategic supply chain questions....</span>\n",
      "</div>\n",
      "<div class=\"result-link-bar-container\">\n",
      "<div class=\"result-link-bar\"><span class=\"result-link-source\">Nike </span>- <span class=\"date\">1 day ago</span> <span class=\"tt_set\" id=\"tt_set_1\">  -  <a class=\"sl resultLink save-job-link \" href=\"#\" id=\"sj_6d655f1d63c5aac9\" onclick=\"changeJobState('6d655f1d63c5aac9', 'save', 'linkbar', false); return false;\" title=\"Save this job to my.indeed\">save job</a> - <a class=\"sl resultLink more-link \" href=\"#\" id=\"tog_1\" onclick=\"toggleMoreLinks('6d655f1d63c5aac9'); return false;\">more...</a></span><div class=\"edit_note_content\" id=\"editsaved2_6d655f1d63c5aac9\" style=\"display:none;\"></div><script>window['result_6d655f1d63c5aac9'] = {\"showSource\": true, \"source\": \"Nike\", \"loggedIn\": false, \"showMyJobsLinks\": false,\"undoAction\": \"unsave\",\"relativeJobAge\": \"1 day ago\",\"jobKey\": \"6d655f1d63c5aac9\", \"myIndeedAvailable\": true, \"showMoreActionsLink\": true, \"resultNumber\": 1, \"jobStateChangedToSaved\": false, \"searchState\": \"q=data scientist $20,000&amp;\", \"basicPermaLink\": \"http://www.indeed.com\", \"saveJobFailed\": false, \"removeJobFailed\": false, \"requestPending\": false, \"notesEnabled\": true, \"currentPage\" : \"serp\", \"mjwebtransgroupactive\" : false, \"sponsored\" : false,\"reportJobButtonEnabled\": false, \"showMyJobsHired\": false, \"showSaveForSponsored\": false, \"showJobAge\": true};</script></div></div>\n",
      "<div class=\"tab-container\">\n",
      "<div class=\"more-links-container result-tab\" id=\"tt_display_1\" style=\"display:none;\"><a class=\"close-link closeLink\" href=\"#\" onclick=\"toggleMoreLinks('6d655f1d63c5aac9'); return false;\" title=\"Close\"></a><div class=\"more_actions\" id=\"more_1\"><ul><li><span class=\"mat\">View all <a href=\"/jobs?q=Nike+Inc&amp;l=Portland,+OR&amp;nc=jasx\" rel=\"nofollow\">NIKE INC jobs in Portland, OR</a> - <a href=\"/l-Portland,-OR-jobs.html\">Portland jobs</a></span></li><li><span class=\"mat\">Salary Search: <a href=\"/salaries/Data-Scientist-Salaries,-Portland-OR\" onmousedown=\"this.href = appendParamsOnce(this.href, '?campaignid=serp-more&amp;fromjk=6d655f1d63c5aac9&amp;from=serp-more');\">Data Scientist salaries in Portland, OR</a></span></li><li><span class=\"mat\">Learn more about working at <a href=\"/cmp/Nike\" onmousedown=\"this.href = appendParamsOnce(this.href, '?fromjk=6d655f1d63c5aac9&amp;from=serp-more&amp;campaignid=serp-more&amp;jcid=e4a0ebc7ef5e730e');\">Nike Inc</a></span></li><li><span class=\"mat\"><a href=\"/cmp/Nike/faq\" onmousedown=\"this.href = appendParamsOnce(this.href, '?from=serp-more&amp;campaignid=serp-more&amp;fromjk=6d655f1d63c5aac9&amp;jcid=e4a0ebc7ef5e730e');\">Nike Inc questions about work, benefits, interviews and hiring process:</a><ul><li><a href=\"/cmp/Nike/faq/do-nike-work-on-holidays?quid=1b3jomfihas3afv3\" onmousedown=\"this.href = appendParamsOnce(this.href, '?from=serp-more&amp;campaignid=serp-more&amp;fromjk=6d655f1d63c5aac9&amp;jcid=e4a0ebc7ef5e730e');\">Do nike work on holidays?</a></li><li><a href=\"/cmp/Nike/faq/how-did-you-get-your-first-interview-at-nike?quid=1al9mehunak5jb01\" onmousedown=\"this.href = appendParamsOnce(this.href, '?from=serp-more&amp;campaignid=serp-more&amp;fromjk=6d655f1d63c5aac9&amp;jcid=e4a0ebc7ef5e730e');\">How did you get your first interview at NIKE?</a></li></ul></span></li><li><span class=\"mat\">Related forums: <a href=\"/forum/cmp/Nike.html\">NIKE</a> - <a href=\"/forum/loc/Portland-Oregon.html\">Portland, Oregon</a></span></li></ul></div></div><div class=\"dya-container result-tab\"></div>\n",
      "<div class=\"tellafriend-container result-tab email_job_content\"></div>\n",
      "<div class=\"sign-in-container result-tab\"></div>\n",
      "<div class=\"notes-container result-tab\"></div>\n",
      "</div>\n",
      "</td>\n",
      "</tr>\n",
      "</table>\n",
      "</div>\n",
      "<div class=\" row result\" data-jk=\"bfc578d23604c2fc\" data-tn-component=\"organicJob\" id=\"p_bfc578d23604c2fc\" itemscope=\"\" itemtype=\"http://schema.org/JobPosting\">\n",
      "<h2 class=\"jobtitle\" id=\"jl_bfc578d23604c2fc\">\n",
      "<a class=\"turnstileLink\" data-tn-element=\"jobTitle\" href=\"/rc/clk?jk=bfc578d23604c2fc&amp;fccid=bb384ca0a6d3d491\" itemprop=\"title\" onclick=\"setRefineByCookie(['salest']); return rclk(this,jobmap[2],true,0);\" onmousedown=\"return rclk(this,jobmap[2],0);\" rel=\"nofollow\" target=\"_blank\" title=\"Statistical Modeling Analyst\">Statistical Modeling Analyst</a>\n",
      "</h2>\n",
      "<span class=\"company\" itemprop=\"hiringOrganization\" itemtype=\"http://schema.org/Organization\">\n",
      "<span itemprop=\"name\">\n",
      "<a href=\"/cmp/Nestle-USA\" onmousedown=\"this.href = appendParamsOnce(this.href, 'from=SERP&amp;campaignid=serp-linkcompanyname&amp;fromjk=bfc578d23604c2fc&amp;jcid=bb384ca0a6d3d491')\" target=\"_blank\">\n",
      "        Nestle USA</a></span>\n",
      "</span>\n",
      "\n",
      " - <a class=\"turnstileLink slNoUnderline \" data-tn-element=\"reviewStars\" data-tn-variant=\"cmplinktst2\" href=\"/cmp/Nestle-USA/reviews\" onmousedown=\"this.href = appendParamsOnce(this.href, '?campaignid=cmplinktst2&amp;from=SERP&amp;jt=Statistical+Modeling+Analyst&amp;fromjk=bfc578d23604c2fc&amp;jcid=bb384ca0a6d3d491');\" target=\"_blank\" title=\"Nestle USA reviews\">\n",
      "<span class=\"ratings\"><span class=\"rating\" style=\"width:43.8px\"><!-- --></span></span>\n",
      "<span class=\"slNoUnderline\">724 reviews</span></a>\n",
      " - <span itemprop=\"jobLocation\" itemscope=\"\" itemtype=\"http://schema.org/Place\"><span class=\"location\" itemprop=\"address\" itemscope=\"\" itemtype=\"http://schema.org/Postaladdress\"><span itemprop=\"addressLocality\">Arlington, VA</span></span></span>\n",
      "<table border=\"0\" cellpadding=\"0\" cellspacing=\"0\">\n",
      "<tr>\n",
      "<td class=\"snip\">\n",
      "<div>\n",
      "<span class=\"summary\" itemprop=\"description\">\n",
      "Demand signal <b>data</b> will be incorporated into forecast reporting and utilized for statistical modeling. Participate in demand signal <b>data</b> reporting and analysis...</span>\n",
      "</div>\n",
      "<div class=\"result-link-bar-container\">\n",
      "<div class=\"result-link-bar\"><span class=\"date\">6 days ago</span> <span class=\"tt_set\" id=\"tt_set_2\">  -  <a class=\"sl resultLink save-job-link \" href=\"#\" id=\"sj_bfc578d23604c2fc\" onclick=\"changeJobState('bfc578d23604c2fc', 'save', 'linkbar', false); return false;\" title=\"Save this job to my.indeed\">save job</a> - <a class=\"sl resultLink more-link \" href=\"#\" id=\"tog_2\" onclick=\"toggleMoreLinks('bfc578d23604c2fc'); return false;\">more...</a></span><div class=\"edit_note_content\" id=\"editsaved2_bfc578d23604c2fc\" style=\"display:none;\"></div><script>window['result_bfc578d23604c2fc'] = {\"showSource\": false, \"source\": \"Nestle USA\", \"loggedIn\": false, \"showMyJobsLinks\": false,\"undoAction\": \"unsave\",\"relativeJobAge\": \"6 days ago\",\"jobKey\": \"bfc578d23604c2fc\", \"myIndeedAvailable\": true, \"showMoreActionsLink\": true, \"resultNumber\": 2, \"jobStateChangedToSaved\": false, \"searchState\": \"q=data scientist $20,000&amp;\", \"basicPermaLink\": \"http://www.indeed.com\", \"saveJobFailed\": false, \"removeJobFailed\": false, \"requestPending\": false, \"notesEnabled\": true, \"currentPage\" : \"serp\", \"mjwebtransgroupactive\" : false, \"sponsored\" : false,\"reportJobButtonEnabled\": false, \"showMyJobsHired\": false, \"showSaveForSponsored\": false, \"showJobAge\": true};</script></div></div>\n",
      "<div class=\"tab-container\">\n",
      "<div class=\"more-links-container result-tab\" id=\"tt_display_2\" style=\"display:none;\"><a class=\"close-link closeLink\" href=\"#\" onclick=\"toggleMoreLinks('bfc578d23604c2fc'); return false;\" title=\"Close\"></a><div class=\"more_actions\" id=\"more_2\"><ul><li><span class=\"mat\">View all <a href=\"/q-Nestle-USA-l-Arlington,-VA-jobs.html\" rel=\"nofollow\">Nestle USA jobs in Arlington, VA</a> - <a href=\"/l-Arlington,-VA-jobs.html\">Arlington jobs</a></span></li><li><span class=\"mat\">Salary Search: <a href=\"/salaries/Modeling-Analyst-Salaries,-Arlington-VA\" onmousedown=\"this.href = appendParamsOnce(this.href, '?campaignid=serp-more&amp;fromjk=bfc578d23604c2fc&amp;from=serp-more-nofollow');\" rel='\"nofollow\"'>Modeling Analyst salaries in Arlington, VA</a></span></li><li><span class=\"mat\">Learn more about working at <a href=\"/cmp/Nestle-USA\" onmousedown=\"this.href = appendParamsOnce(this.href, '?fromjk=bfc578d23604c2fc&amp;from=serp-more&amp;campaignid=serp-more&amp;jcid=bb384ca0a6d3d491');\">Nestle USA</a></span></li><li><span class=\"mat\"><a href=\"/cmp/Nestle-USA/faq\" onmousedown=\"this.href = appendParamsOnce(this.href, '?from=serp-more&amp;campaignid=serp-more&amp;fromjk=bfc578d23604c2fc&amp;jcid=bb384ca0a6d3d491');\">Nestle USA questions about work, benefits, interviews and hiring process:</a><ul><li><a href=\"/cmp/Nestle-USA/faq/what-is-the-work-environment-and-culture-like-at-nestle-usa?quid=1algs5a9sb80rfrv\" onmousedown=\"this.href = appendParamsOnce(this.href, '?from=serp-more&amp;campaignid=serp-more&amp;fromjk=bfc578d23604c2fc&amp;jcid=bb384ca0a6d3d491');\">What is the work environment and culture like at Nestle USA?</a></li><li><a href=\"/cmp/Nestle-USA/faq/working-on-the-weekend-is-that-something-u-can-work-ur-way-up-off-it-or-its-set-to-always-work-weekends?quid=1arbhbrgpaqisao6\" onmousedown=\"this.href = appendParamsOnce(this.href, '?from=serp-more&amp;campaignid=serp-more&amp;fromjk=bfc578d23604c2fc&amp;jcid=bb384ca0a6d3d491');\">Working on the weekend, is that something u can work ur way up off it or...</a></li></ul></span></li><li><span class=\"mat\">Related forums: <a href=\"/forum/cmp/Nestle-USA.html\">Nestle USA</a> - <a href=\"/forum/loc/Arlington-Virginia.html\">Arlington, Virginia</a></span></li></ul></div></div><div class=\"dya-container result-tab\"></div>\n",
      "<div class=\"tellafriend-container result-tab email_job_content\"></div>\n",
      "<div class=\"sign-in-container result-tab\"></div>\n",
      "<div class=\"notes-container result-tab\"></div>\n",
      "</div>\n",
      "</td>\n",
      "</tr>\n",
      "</table>\n",
      "</div>\n",
      "<div class=\" row result\" data-jk=\"07cb461c7beddbe1\" data-tn-component=\"organicJob\" id=\"p_07cb461c7beddbe1\" itemscope=\"\" itemtype=\"http://schema.org/JobPosting\">\n",
      "<h2 class=\"jobtitle\" id=\"jl_07cb461c7beddbe1\">\n",
      "<a class=\"turnstileLink\" data-tn-element=\"jobTitle\" href=\"/rc/clk?jk=07cb461c7beddbe1&amp;fccid=4e041af1d0af1bc8\" itemprop=\"title\" onclick=\"setRefineByCookie(['salest']); return rclk(this,jobmap[3],true,0);\" onmousedown=\"return rclk(this,jobmap[3],0);\" rel=\"nofollow\" target=\"_blank\" title=\"Research Data Scientist\">Research <b>Data</b> <b>Scientist</b></a>\n",
      "</h2>\n",
      "<span class=\"company\" itemprop=\"hiringOrganization\" itemtype=\"http://schema.org/Organization\">\n",
      "<span itemprop=\"name\">\n",
      "<a href=\"/cmp/Booz-Allen-Hamilton\" onmousedown=\"this.href = appendParamsOnce(this.href, 'from=SERP&amp;campaignid=serp-linkcompanyname&amp;fromjk=07cb461c7beddbe1&amp;jcid=4e041af1d0af1bc8')\" target=\"_blank\">\n",
      "        Booz Allen Hamilton</a></span>\n",
      "</span>\n",
      "\n",
      " - <a class=\"turnstileLink slNoUnderline \" data-tn-element=\"reviewStars\" data-tn-variant=\"cmplinktst2\" href=\"/cmp/Booz-Allen-Hamilton/reviews\" onmousedown=\"this.href = appendParamsOnce(this.href, '?campaignid=cmplinktst2&amp;from=SERP&amp;jt=Research+Data+Scientist&amp;fromjk=07cb461c7beddbe1&amp;jcid=4e041af1d0af1bc8');\" target=\"_blank\" title=\"Booz Allen Hamilton reviews\">\n",
      "<span class=\"ratings\"><span class=\"rating\" style=\"width:44.4px\"><!-- --></span></span>\n",
      "<span class=\"slNoUnderline\">1,096 reviews</span></a>\n",
      " - <span itemprop=\"jobLocation\" itemscope=\"\" itemtype=\"http://schema.org/Place\"><span class=\"location\" itemprop=\"address\" itemscope=\"\" itemtype=\"http://schema.org/Postaladdress\"><span itemprop=\"addressLocality\">Washington, DC</span></span></span>\n",
      "<table border=\"0\" cellpadding=\"0\" cellspacing=\"0\">\n",
      "<tr>\n",
      "<td class=\"snip\">\n",
      "<div>\n",
      "<span class=\"summary\" itemprop=\"description\">\n",
      "Research <b>Data</b> <b>Scientist</b>. Experience with building complex <b>data</b> extraction, transformation, and loading, including ETL into structured databases, <b>data</b> warehouses...</span>\n",
      "</div>\n",
      "<div class=\"result-link-bar-container\">\n",
      "<div class=\"result-link-bar\"><span class=\"date\">1 hour ago</span> <span class=\"tt_set\" id=\"tt_set_3\">  -  <a class=\"sl resultLink save-job-link \" href=\"#\" id=\"sj_07cb461c7beddbe1\" onclick=\"changeJobState('07cb461c7beddbe1', 'save', 'linkbar', false); return false;\" title=\"Save this job to my.indeed\">save job</a> - <a class=\"sl resultLink more-link \" href=\"#\" id=\"tog_3\" onclick=\"toggleMoreLinks('07cb461c7beddbe1'); return false;\">more...</a></span><div class=\"edit_note_content\" id=\"editsaved2_07cb461c7beddbe1\" style=\"display:none;\"></div><script>window['result_07cb461c7beddbe1'] = {\"showSource\": false, \"source\": \"Booz Allen Hamilton\", \"loggedIn\": false, \"showMyJobsLinks\": false,\"undoAction\": \"unsave\",\"relativeJobAge\": \"1 hour ago\",\"jobKey\": \"07cb461c7beddbe1\", \"myIndeedAvailable\": true, \"showMoreActionsLink\": true, \"resultNumber\": 3, \"jobStateChangedToSaved\": false, \"searchState\": \"q=data scientist $20,000&amp;\", \"basicPermaLink\": \"http://www.indeed.com\", \"saveJobFailed\": false, \"removeJobFailed\": false, \"requestPending\": false, \"notesEnabled\": true, \"currentPage\" : \"serp\", \"mjwebtransgroupactive\" : false, \"sponsored\" : false,\"reportJobButtonEnabled\": false, \"showMyJobsHired\": false, \"showSaveForSponsored\": false, \"showJobAge\": true};</script></div></div>\n",
      "<div class=\"tab-container\">\n",
      "<div class=\"more-links-container result-tab\" id=\"tt_display_3\" style=\"display:none;\"><a class=\"close-link closeLink\" href=\"#\" onclick=\"toggleMoreLinks('07cb461c7beddbe1'); return false;\" title=\"Close\"></a><div class=\"more_actions\" id=\"more_3\"><ul><li><span class=\"mat\">View all <a href=\"/q-Booz-Allen-Hamilton-l-Washington,-DC-jobs.html\" rel=\"nofollow\">Booz Allen Hamilton jobs in Washington, DC</a> - <a href=\"/l-Washington,-DC-jobs.html\">Washington jobs</a></span></li><li><span class=\"mat\">Salary Search: <a href=\"/salaries/Data-Scientist-Salaries,-Washington-DC\" onmousedown=\"this.href = appendParamsOnce(this.href, '?campaignid=serp-more&amp;fromjk=07cb461c7beddbe1&amp;from=serp-more');\">Data Scientist salaries in Washington, DC</a></span></li><li><span class=\"mat\">Learn more about working at <a href=\"/cmp/Booz-Allen-Hamilton\" onmousedown=\"this.href = appendParamsOnce(this.href, '?fromjk=07cb461c7beddbe1&amp;from=serp-more&amp;campaignid=serp-more&amp;jcid=4e041af1d0af1bc8');\">Booz Allen Hamilton</a></span></li><li><span class=\"mat\"><a href=\"/cmp/Booz-Allen-Hamilton/faq\" onmousedown=\"this.href = appendParamsOnce(this.href, '?from=serp-more&amp;campaignid=serp-more&amp;fromjk=07cb461c7beddbe1&amp;jcid=4e041af1d0af1bc8');\">Booz Allen Hamilton questions about work, benefits, interviews and hiring process:</a><ul><li><a href=\"/cmp/Booz-Allen-Hamilton/faq/how-are-the-working-hours?quid=1an7bo61vb822fp6\" onmousedown=\"this.href = appendParamsOnce(this.href, '?from=serp-more&amp;campaignid=serp-more&amp;fromjk=07cb461c7beddbe1&amp;jcid=4e041af1d0af1bc8');\">How are the working hours?</a></li><li><a href=\"/cmp/Booz-Allen-Hamilton/faq/how-are-they-about-telecommuting?quid=1b62s7nfubvu9af0\" onmousedown=\"this.href = appendParamsOnce(this.href, '?from=serp-more&amp;campaignid=serp-more&amp;fromjk=07cb461c7beddbe1&amp;jcid=4e041af1d0af1bc8');\">How are they about telecommuting?</a></li></ul></span></li><li><span class=\"mat\">Related forums: <a href=\"/forum/cmp/Booz-Allen-Hamilton.html\">Booz Allen Hamilton</a> - <a href=\"/forum/loc/Washington-District-of-Columbia.html\">Washington, District of Columbia</a></span></li></ul></div></div><div class=\"dya-container result-tab\"></div>\n",
      "<div class=\"tellafriend-container result-tab email_job_content\"></div>\n",
      "<div class=\"sign-in-container result-tab\"></div>\n",
      "<div class=\"notes-container result-tab\"></div>\n",
      "</div>\n",
      "</td>\n",
      "</tr>\n",
      "</table>\n",
      "</div>\n",
      "<div class=\" row result\" data-jk=\"e142c03f3ece6f32\" data-tn-component=\"organicJob\" id=\"p_e142c03f3ece6f32\" itemscope=\"\" itemtype=\"http://schema.org/JobPosting\">\n",
      "<h2 class=\"jobtitle\" id=\"jl_e142c03f3ece6f32\">\n",
      "<a class=\"turnstileLink\" data-tn-element=\"jobTitle\" href=\"/company/Morelity/jobs/Junior-Data-Scientist-e142c03f3ece6f32?fccid=2d78d00d6a6a3869\" itemprop=\"title\" onclick=\"setRefineByCookie(['salest']); return rclk(this,jobmap[4],true,0);\" onmousedown=\"return rclk(this,jobmap[4],0);\" rel=\"nofollow\" target=\"_blank\" title=\"Junior Data Scientist\">Junior <b>Data</b> <b>Scientist</b></a>\n",
      "</h2>\n",
      "<span class=\"company\" itemprop=\"hiringOrganization\" itemtype=\"http://schema.org/Organization\">\n",
      "<span itemprop=\"name\">\n",
      "<a href=\"/cmp/Morelity\" onmousedown=\"this.href = appendParamsOnce(this.href, 'from=SERP&amp;campaignid=serp-linkcompanyname&amp;fromjk=e142c03f3ece6f32&amp;jcid=458f59c273df6bfc')\" target=\"_blank\">\n",
      "        Morelity</a></span>\n",
      "</span>\n",
      "\n",
      " - <a class=\"turnstileLink slNoUnderline \" data-tn-element=\"reviewStars\" data-tn-variant=\"cmplinktst2\" href=\"/cmp/Morelity/reviews\" onmousedown=\"this.href = appendParamsOnce(this.href, '?campaignid=cmplinktst2&amp;from=SERP&amp;jt=Junior+Data+Scientist&amp;fromjk=e142c03f3ece6f32&amp;jcid=458f59c273df6bfc');\" target=\"_blank\" title=\"Morelity reviews\">\n",
      "<span class=\"ratings\"><span class=\"rating\" style=\"width:60.0px\"><!-- --></span></span>\n",
      "<span class=\"slNoUnderline\">4 reviews</span></a>\n",
      " - <span itemprop=\"jobLocation\" itemscope=\"\" itemtype=\"http://schema.org/Place\"><span class=\"location\" itemprop=\"address\" itemscope=\"\" itemtype=\"http://schema.org/Postaladdress\"><span itemprop=\"addressLocality\">Des Moines, IA</span></span></span>\n",
      "<table border=\"0\" cellpadding=\"0\" cellspacing=\"0\">\n",
      "<tr>\n",
      "<td class=\"snip\">\n",
      "<div>\n",
      "<span class=\"summary\" itemprop=\"description\">\n",
      "Experience with transforming <b>data</b>. We are looking for junior (just out of school to a few years out in the real world) <b>data</b> <b>scientists</b> to work on ways to...</span>\n",
      "</div>\n",
      "<div class=\"iaP\">\n",
      "<span class=\"iaLabel\"> Easily apply</span>\n",
      "</div>\n",
      "<div class=\"result-link-bar-container\">\n",
      "<div class=\"result-link-bar\"><span class=\"date\">1 day ago</span> <span class=\"tt_set\" id=\"tt_set_4\">  -  <a class=\"sl resultLink save-job-link \" href=\"#\" id=\"sj_e142c03f3ece6f32\" onclick=\"changeJobState('e142c03f3ece6f32', 'save', 'linkbar', false); return false;\" title=\"Save this job to my.indeed\">save job</a> - <a class=\"sl resultLink more-link \" href=\"#\" id=\"tog_4\" onclick=\"toggleMoreLinks('e142c03f3ece6f32'); return false;\">more...</a></span><div class=\"edit_note_content\" id=\"editsaved2_e142c03f3ece6f32\" style=\"display:none;\"></div><script>window['result_e142c03f3ece6f32'] = {\"showSource\": false, \"source\": \"Indeed\", \"loggedIn\": false, \"showMyJobsLinks\": false,\"undoAction\": \"unsave\",\"relativeJobAge\": \"1 day ago\",\"jobKey\": \"e142c03f3ece6f32\", \"myIndeedAvailable\": true, \"showMoreActionsLink\": true, \"resultNumber\": 4, \"jobStateChangedToSaved\": false, \"searchState\": \"q=data scientist $20,000&amp;\", \"basicPermaLink\": \"http://www.indeed.com\", \"saveJobFailed\": false, \"removeJobFailed\": false, \"requestPending\": false, \"notesEnabled\": true, \"currentPage\" : \"serp\", \"mjwebtransgroupactive\" : false, \"sponsored\" : false,\"reportJobButtonEnabled\": false, \"showMyJobsHired\": false, \"showSaveForSponsored\": false, \"showJobAge\": true};</script></div></div>\n",
      "<div class=\"tab-container\">\n",
      "<div class=\"more-links-container result-tab\" id=\"tt_display_4\" style=\"display:none;\"><a class=\"close-link closeLink\" href=\"#\" onclick=\"toggleMoreLinks('e142c03f3ece6f32'); return false;\" title=\"Close\"></a><div class=\"more_actions\" id=\"more_4\"><ul><li><span class=\"mat\">View all <a href=\"/q-Morelity-l-Des-Moines,-IA-jobs.html\" rel=\"nofollow\">Morelity jobs in Des Moines, IA</a> - <a href=\"/l-Des-Moines,-IA-jobs.html\">Des Moines jobs</a></span></li><li><span class=\"mat\">Salary Search: <a href=\"/salaries/Data-Scientist-Salaries,-Des-Moines-IA\" onmousedown=\"this.href = appendParamsOnce(this.href, '?campaignid=serp-more&amp;fromjk=e142c03f3ece6f32&amp;from=serp-more');\">Data Scientist salaries in Des Moines, IA</a></span></li><li><span class=\"mat\">Learn more about working at <a href=\"/cmp/Morelity\" onmousedown=\"this.href = appendParamsOnce(this.href, '?fromjk=e142c03f3ece6f32&amp;from=serp-more&amp;campaignid=serp-more&amp;jcid=458f59c273df6bfc');\">Morelity</a></span></li><li><span class=\"mat\">Related forums: <a href=\"/forum/loc/Des-Moines-Iowa.html\">Des Moines, Iowa</a> - <a href=\"/forum/cmp/Morelity.html\">Morelity</a></span></li></ul></div></div><div class=\"dya-container result-tab\"></div>\n",
      "<div class=\"tellafriend-container result-tab email_job_content\"></div>\n",
      "<div class=\"sign-in-container result-tab\"></div>\n",
      "<div class=\"notes-container result-tab\"></div>\n",
      "</div>\n",
      "</td>\n",
      "</tr>\n",
      "</table>\n",
      "</div>\n",
      "<div class=\" row result\" data-jk=\"4648e360810d9511\" data-tn-component=\"organicJob\" id=\"p_4648e360810d9511\" itemscope=\"\" itemtype=\"http://schema.org/JobPosting\">\n",
      "<h2 class=\"jobtitle\" id=\"jl_4648e360810d9511\">\n",
      "<a class=\"turnstileLink\" data-tn-element=\"jobTitle\" href=\"/rc/clk?jk=4648e360810d9511&amp;fccid=4e041af1d0af1bc8\" itemprop=\"title\" onclick=\"setRefineByCookie(['salest']); return rclk(this,jobmap[5],true,0);\" onmousedown=\"return rclk(this,jobmap[5],0);\" rel=\"nofollow\" target=\"_blank\" title=\"Data Scientist\"><b>Data</b> <b>Scientist</b></a>\n",
      "</h2>\n",
      "<span class=\"company\" itemprop=\"hiringOrganization\" itemtype=\"http://schema.org/Organization\">\n",
      "<span itemprop=\"name\">\n",
      "<a href=\"/cmp/Booz-Allen-Hamilton\" onmousedown=\"this.href = appendParamsOnce(this.href, 'from=SERP&amp;campaignid=serp-linkcompanyname&amp;fromjk=4648e360810d9511&amp;jcid=4e041af1d0af1bc8')\" target=\"_blank\">\n",
      "        Booz Allen Hamilton</a></span>\n",
      "</span>\n",
      "\n",
      " - <a class=\"turnstileLink slNoUnderline \" data-tn-element=\"reviewStars\" data-tn-variant=\"cmplinktst2\" href=\"/cmp/Booz-Allen-Hamilton/reviews\" onmousedown=\"this.href = appendParamsOnce(this.href, '?campaignid=cmplinktst2&amp;from=SERP&amp;jt=Data+Scientist&amp;fromjk=4648e360810d9511&amp;jcid=4e041af1d0af1bc8');\" target=\"_blank\" title=\"Booz Allen Hamilton reviews\">\n",
      "<span class=\"ratings\"><span class=\"rating\" style=\"width:44.4px\"><!-- --></span></span>\n",
      "<span class=\"slNoUnderline\">1,096 reviews</span></a>\n",
      " - <span itemprop=\"jobLocation\" itemscope=\"\" itemtype=\"http://schema.org/Place\"><span class=\"location\" itemprop=\"address\" itemscope=\"\" itemtype=\"http://schema.org/Postaladdress\"><span itemprop=\"addressLocality\">Arlington, VA</span></span></span>\n",
      " <a class=\"more_loc\" href=\"/jobs?q=data+scientist+%2420%2C000&amp;rbt=Data+Scientist&amp;rbc=Booz+Allen+Hamilton&amp;jtid=1872a3288ede048a&amp;jcid=4e041af1d0af1bc8&amp;grp=tcl\" onmousedown=\"ptk('addlloc');\" rel=\"nofollow\">+13 locations</a><table border=\"0\" cellpadding=\"0\" cellspacing=\"0\">\n",
      "<tr>\n",
      "<td class=\"snip\">\n",
      "<div>\n",
      "<span class=\"summary\" itemprop=\"description\">\n",
      "Ability to both manage and manipulate large <b>data</b> sets, develop <b>data</b> science approaches, and manage <b>data</b> science tasks....</span>\n",
      "</div>\n",
      "<div class=\"result-link-bar-container\">\n",
      "<div class=\"result-link-bar\"><span class=\"date\">7 days ago</span> <span class=\"tt_set\" id=\"tt_set_5\">  -  <a class=\"sl resultLink save-job-link \" href=\"#\" id=\"sj_4648e360810d9511\" onclick=\"changeJobState('4648e360810d9511', 'save', 'linkbar', false); return false;\" title=\"Save this job to my.indeed\">save job</a> - <a class=\"sl resultLink more-link \" href=\"#\" id=\"tog_5\" onclick=\"toggleMoreLinks('4648e360810d9511'); return false;\">more...</a></span><div class=\"edit_note_content\" id=\"editsaved2_4648e360810d9511\" style=\"display:none;\"></div><script>window['result_4648e360810d9511'] = {\"showSource\": false, \"source\": \"Booz Allen Hamilton\", \"loggedIn\": false, \"showMyJobsLinks\": false,\"undoAction\": \"unsave\",\"relativeJobAge\": \"7 days ago\",\"jobKey\": \"4648e360810d9511\", \"myIndeedAvailable\": true, \"showMoreActionsLink\": true, \"resultNumber\": 5, \"jobStateChangedToSaved\": false, \"searchState\": \"q=data scientist $20,000&amp;\", \"basicPermaLink\": \"http://www.indeed.com\", \"saveJobFailed\": false, \"removeJobFailed\": false, \"requestPending\": false, \"notesEnabled\": true, \"currentPage\" : \"serp\", \"mjwebtransgroupactive\" : false, \"sponsored\" : false,\"reportJobButtonEnabled\": false, \"showMyJobsHired\": false, \"showSaveForSponsored\": false, \"showJobAge\": true};</script></div></div>\n",
      "<div class=\"tab-container\">\n",
      "<div class=\"more-links-container result-tab\" id=\"tt_display_5\" style=\"display:none;\"><a class=\"close-link closeLink\" href=\"#\" onclick=\"toggleMoreLinks('4648e360810d9511'); return false;\" title=\"Close\"></a><div class=\"more_actions\" id=\"more_5\"><ul><li><span class=\"mat\">View all <a href=\"/q-Booz-Allen-Hamilton-l-Arlington,-VA-jobs.html\" rel=\"nofollow\">Booz Allen Hamilton jobs in Arlington, VA</a> - <a href=\"/l-Arlington,-VA-jobs.html\">Arlington jobs</a></span></li><li><span class=\"mat\">Salary Search: <a href=\"/salaries/Data-Scientist-Salaries,-Arlington-VA\" onmousedown=\"this.href = appendParamsOnce(this.href, '?campaignid=serp-more&amp;fromjk=4648e360810d9511&amp;from=serp-more');\">Data Scientist salaries in Arlington, VA</a></span></li><li><span class=\"mat\">Learn more about working at <a href=\"/cmp/Booz-Allen-Hamilton\" onmousedown=\"this.href = appendParamsOnce(this.href, '?fromjk=4648e360810d9511&amp;from=serp-more&amp;campaignid=serp-more&amp;jcid=4e041af1d0af1bc8');\">Booz Allen Hamilton</a></span></li><li><span class=\"mat\"><a href=\"/cmp/Booz-Allen-Hamilton/faq\" onmousedown=\"this.href = appendParamsOnce(this.href, '?from=serp-more&amp;campaignid=serp-more&amp;fromjk=4648e360810d9511&amp;jcid=4e041af1d0af1bc8');\">Booz Allen Hamilton questions about work, benefits, interviews and hiring process:</a><ul><li><a href=\"/cmp/Booz-Allen-Hamilton/faq/how-are-the-working-hours?quid=1an7bo61vb822fp6\" onmousedown=\"this.href = appendParamsOnce(this.href, '?from=serp-more&amp;campaignid=serp-more&amp;fromjk=4648e360810d9511&amp;jcid=4e041af1d0af1bc8');\">How are the working hours?</a></li><li><a href=\"/cmp/Booz-Allen-Hamilton/faq/how-are-they-about-telecommuting?quid=1b62s7nfubvu9af0\" onmousedown=\"this.href = appendParamsOnce(this.href, '?from=serp-more&amp;campaignid=serp-more&amp;fromjk=4648e360810d9511&amp;jcid=4e041af1d0af1bc8');\">How are they about telecommuting?</a></li></ul></span></li><li><span class=\"mat\">Related forums: <a href=\"/forum/cmp/Booz-Allen-Hamilton.html\">Booz Allen Hamilton</a> - <a href=\"/forum/loc/Arlington-Virginia.html\">Arlington, Virginia</a></span></li></ul></div></div><div class=\"dya-container result-tab\"></div>\n",
      "<div class=\"tellafriend-container result-tab email_job_content\"></div>\n",
      "<div class=\"sign-in-container result-tab\"></div>\n",
      "<div class=\"notes-container result-tab\"></div>\n",
      "</div>\n",
      "</td>\n",
      "</tr>\n",
      "</table>\n",
      "</div>\n",
      "<div class=\" row result\" data-jk=\"c27766f9f51e9e73\" data-tn-component=\"organicJob\" id=\"p_c27766f9f51e9e73\" itemscope=\"\" itemtype=\"http://schema.org/JobPosting\">\n",
      "<h2 class=\"jobtitle\" id=\"jl_c27766f9f51e9e73\">\n",
      "<a class=\"turnstileLink\" data-tn-element=\"jobTitle\" href=\"/rc/clk?jk=c27766f9f51e9e73&amp;fccid=dc5dd98c1ef26287\" itemprop=\"title\" onclick=\"setRefineByCookie(['salest']); return rclk(this,jobmap[6],true,0);\" onmousedown=\"return rclk(this,jobmap[6],0);\" rel=\"nofollow\" target=\"_blank\" title=\"Statistical Modeling/Data Scientist, First Level Officer, Dallas TX\">Statistical Modeling/<b>Data</b> <b>Scientist</b>, First Level Officer, Da...</a>\n",
      "</h2>\n",
      "<span class=\"company\" itemprop=\"hiringOrganization\" itemtype=\"http://schema.org/Organization\">\n",
      "<span itemprop=\"name\">\n",
      "<a href=\"/cmp/Comerica-Bank\" onmousedown=\"this.href = appendParamsOnce(this.href, 'from=SERP&amp;campaignid=serp-linkcompanyname&amp;fromjk=c27766f9f51e9e73&amp;jcid=77b67a7c2e08c53f')\" target=\"_blank\">\n",
      "        Comerica</a></span>\n",
      "</span>\n",
      "\n",
      " - <a class=\"turnstileLink slNoUnderline \" data-tn-element=\"reviewStars\" data-tn-variant=\"cmplinktst2\" href=\"/cmp/Comerica-Bank/reviews\" onmousedown=\"this.href = appendParamsOnce(this.href, '?campaignid=cmplinktst2&amp;from=SERP&amp;jt=Statistical+Modeling%5C%2FData+Scientist%2C+First+Level+Officer%2C+Dallas+TX&amp;fromjk=c27766f9f51e9e73&amp;jcid=77b67a7c2e08c53f');\" target=\"_blank\" title=\"Comerica reviews\">\n",
      "<span class=\"ratings\"><span class=\"rating\" style=\"width:43.8px\"><!-- --></span></span>\n",
      "<span class=\"slNoUnderline\">468 reviews</span></a>\n",
      " - <span itemprop=\"jobLocation\" itemscope=\"\" itemtype=\"http://schema.org/Place\"><span class=\"location\" itemprop=\"address\" itemscope=\"\" itemtype=\"http://schema.org/Postaladdress\"><span itemprop=\"addressLocality\">Dallas, TX 75201 <span style=\"font-size: smaller\">(City Center District area)</span></span></span></span>\n",
      "<table border=\"0\" cellpadding=\"0\" cellspacing=\"0\">\n",
      "<tr>\n",
      "<td class=\"snip\">\n",
      "<div>\n",
      "<span class=\"summary\" itemprop=\"description\">\n",
      "Participates in rigorous assessment of <b>data</b> quality and assumptions relevance, and appropriate documentation especially where management judgment is used....</span>\n",
      "</div>\n",
      "<div class=\"result-link-bar-container\">\n",
      "<div class=\"result-link-bar\"><span class=\"result-link-source\">Comerica Bank </span>- <span class=\"date\">3 days ago</span> <span class=\"tt_set\" id=\"tt_set_6\">  -  <a class=\"sl resultLink save-job-link \" href=\"#\" id=\"sj_c27766f9f51e9e73\" onclick=\"changeJobState('c27766f9f51e9e73', 'save', 'linkbar', false); return false;\" title=\"Save this job to my.indeed\">save job</a> - <a class=\"sl resultLink more-link \" href=\"#\" id=\"tog_6\" onclick=\"toggleMoreLinks('c27766f9f51e9e73'); return false;\">more...</a></span><div class=\"edit_note_content\" id=\"editsaved2_c27766f9f51e9e73\" style=\"display:none;\"></div><script>window['result_c27766f9f51e9e73'] = {\"showSource\": true, \"source\": \"Comerica Bank\", \"loggedIn\": false, \"showMyJobsLinks\": false,\"undoAction\": \"unsave\",\"relativeJobAge\": \"3 days ago\",\"jobKey\": \"c27766f9f51e9e73\", \"myIndeedAvailable\": true, \"showMoreActionsLink\": true, \"resultNumber\": 6, \"jobStateChangedToSaved\": false, \"searchState\": \"q=data scientist $20,000&amp;\", \"basicPermaLink\": \"http://www.indeed.com\", \"saveJobFailed\": false, \"removeJobFailed\": false, \"requestPending\": false, \"notesEnabled\": true, \"currentPage\" : \"serp\", \"mjwebtransgroupactive\" : false, \"sponsored\" : false,\"reportJobButtonEnabled\": false, \"showMyJobsHired\": false, \"showSaveForSponsored\": false, \"showJobAge\": true};</script></div></div>\n",
      "<div class=\"tab-container\">\n",
      "<div class=\"more-links-container result-tab\" id=\"tt_display_6\" style=\"display:none;\"><a class=\"close-link closeLink\" href=\"#\" onclick=\"toggleMoreLinks('c27766f9f51e9e73'); return false;\" title=\"Close\"></a><div class=\"more_actions\" id=\"more_6\"><ul><li><span class=\"mat\">View all <a href=\"/q-Comerica-l-Dallas,-TX-jobs.html\" rel=\"nofollow\">Comerica jobs in Dallas, TX</a> - <a href=\"/l-Dallas,-TX-jobs.html\">Dallas jobs</a></span></li><li><span class=\"mat\">Salary Search: <a href=\"/salaries/Data-Scientist-Salaries,-Dallas-TX\" onmousedown=\"this.href = appendParamsOnce(this.href, '?campaignid=serp-more&amp;fromjk=c27766f9f51e9e73&amp;from=serp-more');\">Data Scientist salaries in Dallas, TX</a></span></li><li><span class=\"mat\">Learn more about working at <a href=\"/cmp/Comerica-Bank\" onmousedown=\"this.href = appendParamsOnce(this.href, '?fromjk=c27766f9f51e9e73&amp;from=serp-more&amp;campaignid=serp-more&amp;jcid=77b67a7c2e08c53f');\">Comerica</a></span></li><li><span class=\"mat\"><a href=\"/cmp/Comerica-Bank/faq\" onmousedown=\"this.href = appendParamsOnce(this.href, '?from=serp-more&amp;campaignid=serp-more&amp;fromjk=c27766f9f51e9e73&amp;jcid=77b67a7c2e08c53f');\">Comerica questions about work, benefits, interviews and hiring process:</a><ul><li><a href=\"/cmp/Comerica-Bank/faq/what-is-the-work-environment-and-culture-like-at-comerica-bank?quid=1aos8lcm7b8blfvv\" onmousedown=\"this.href = appendParamsOnce(this.href, '?from=serp-more&amp;campaignid=serp-more&amp;fromjk=c27766f9f51e9e73&amp;jcid=77b67a7c2e08c53f');\">What is the work environment and culture like at Comerica Bank?</a></li><li><a href=\"/cmp/Comerica-Bank/faq/how-would-you-describe-the-pace-of-work-at-comerica-bank?quid=1avrm4t1iaqi4bqi\" onmousedown=\"this.href = appendParamsOnce(this.href, '?from=serp-more&amp;campaignid=serp-more&amp;fromjk=c27766f9f51e9e73&amp;jcid=77b67a7c2e08c53f');\">How would you describe the pace of work at Comerica Bank?</a></li></ul></span></li><li><span class=\"mat\">Related forums: <a href=\"/forum/loc/Dallas-Texas.html\">Dallas, Texas</a> - <a href=\"/forum/cmp/Comerica-Bank.html\">Comerica Bank</a></span></li></ul></div></div><div class=\"dya-container result-tab\"></div>\n",
      "<div class=\"tellafriend-container result-tab email_job_content\"></div>\n",
      "<div class=\"sign-in-container result-tab\"></div>\n",
      "<div class=\"notes-container result-tab\"></div>\n",
      "</div>\n",
      "</td>\n",
      "</tr>\n",
      "</table>\n",
      "</div>\n",
      "<div class=\" row result\" data-jk=\"76d7e0f41e68e80c\" data-tn-component=\"organicJob\" id=\"p_76d7e0f41e68e80c\" itemscope=\"\" itemtype=\"http://schema.org/JobPosting\">\n",
      "<h2 class=\"jobtitle\" id=\"jl_76d7e0f41e68e80c\">\n",
      "<a class=\"turnstileLink\" data-tn-element=\"jobTitle\" href=\"/rc/clk?jk=76d7e0f41e68e80c&amp;fccid=f827d06dec9ae88b\" itemprop=\"title\" onclick=\"setRefineByCookie(['salest']); return rclk(this,jobmap[7],true,0);\" onmousedown=\"return rclk(this,jobmap[7],0);\" rel=\"nofollow\" target=\"_blank\" title=\"Data Scientist\"><b>Data</b> <b>Scientist</b></a>\n",
      "</h2>\n",
      "<span class=\"company\" itemprop=\"hiringOrganization\" itemtype=\"http://schema.org/Organization\">\n",
      "<span itemprop=\"name\">\n",
      "    Coverent</span>\n",
      "</span>\n",
      "\n",
      " - <span itemprop=\"jobLocation\" itemscope=\"\" itemtype=\"http://schema.org/Place\"><span class=\"location\" itemprop=\"address\" itemscope=\"\" itemtype=\"http://schema.org/Postaladdress\"><span itemprop=\"addressLocality\">McLean, VA</span></span></span>\n",
      "<table border=\"0\" cellpadding=\"0\" cellspacing=\"0\">\n",
      "<tr>\n",
      "<td class=\"snip\">\n",
      "<div>\n",
      "<span class=\"summary\" itemprop=\"description\">\n",
      "Coverent is seeking a <b>Data</b> <b>Scientist</b> to lead quantitative research and program evaluation activities for a client in the US Intelligence Community....</span>\n",
      "</div>\n",
      "<div class=\"result-link-bar-container\">\n",
      "<div class=\"result-link-bar\"><span class=\"date\">10 days ago</span> <span class=\"tt_set\" id=\"tt_set_7\">  -  <a class=\"sl resultLink save-job-link \" href=\"#\" id=\"sj_76d7e0f41e68e80c\" onclick=\"changeJobState('76d7e0f41e68e80c', 'save', 'linkbar', false); return false;\" title=\"Save this job to my.indeed\">save job</a> - <a class=\"sl resultLink more-link \" href=\"#\" id=\"tog_7\" onclick=\"toggleMoreLinks('76d7e0f41e68e80c'); return false;\">more...</a></span><div class=\"edit_note_content\" id=\"editsaved2_76d7e0f41e68e80c\" style=\"display:none;\"></div><script>window['result_76d7e0f41e68e80c'] = {\"showSource\": false, \"source\": \"Coverent\", \"loggedIn\": false, \"showMyJobsLinks\": false,\"undoAction\": \"unsave\",\"relativeJobAge\": \"10 days ago\",\"jobKey\": \"76d7e0f41e68e80c\", \"myIndeedAvailable\": true, \"showMoreActionsLink\": true, \"resultNumber\": 7, \"jobStateChangedToSaved\": false, \"searchState\": \"q=data scientist $20,000&amp;\", \"basicPermaLink\": \"http://www.indeed.com\", \"saveJobFailed\": false, \"removeJobFailed\": false, \"requestPending\": false, \"notesEnabled\": true, \"currentPage\" : \"serp\", \"mjwebtransgroupactive\" : false, \"sponsored\" : false,\"reportJobButtonEnabled\": false, \"showMyJobsHired\": false, \"showSaveForSponsored\": false, \"showJobAge\": true};</script></div></div>\n",
      "<div class=\"tab-container\">\n",
      "<div class=\"more-links-container result-tab\" id=\"tt_display_7\" style=\"display:none;\"><a class=\"close-link closeLink\" href=\"#\" onclick=\"toggleMoreLinks('76d7e0f41e68e80c'); return false;\" title=\"Close\"></a><div class=\"more_actions\" id=\"more_7\"><ul><li><span class=\"mat\">View all <a href=\"/q-Coverent-l-McLean,-VA-jobs.html\" rel=\"nofollow\">Coverent jobs in McLean, VA</a> - <a href=\"/l-McLean,-VA-jobs.html\">McLean jobs</a></span></li><li><span class=\"mat\">Salary Search: <a href=\"/salaries/Data-Scientist-Salaries,-McLean-VA\" onmousedown=\"this.href = appendParamsOnce(this.href, '?campaignid=serp-more&amp;fromjk=76d7e0f41e68e80c&amp;from=serp-more');\">Data Scientist salaries in McLean, VA</a></span></li><li><span class=\"mat\">Learn more about working at <a href=\"/cmp/Coverent\" onmousedown=\"this.href = appendParamsOnce(this.href, '?fromjk=76d7e0f41e68e80c&amp;from=serp-more&amp;campaignid=serp-more&amp;jcid=f827d06dec9ae88b');\">Coverent</a></span></li><li><span class=\"mat\">Related forums: <a href=\"/forum/loc/Mclean-Virginia.html\">Mclean, Virginia</a> - <a href=\"/forum/cmp/Coverent.html\">Coverent</a></span></li></ul></div></div><div class=\"dya-container result-tab\"></div>\n",
      "<div class=\"tellafriend-container result-tab email_job_content\"></div>\n",
      "<div class=\"sign-in-container result-tab\"></div>\n",
      "<div class=\"notes-container result-tab\"></div>\n",
      "</div>\n",
      "</td>\n",
      "</tr>\n",
      "</table>\n",
      "</div>\n",
      "<div class=\" row result\" data-jk=\"30ca570905ea778a\" data-tn-component=\"organicJob\" id=\"p_30ca570905ea778a\" itemscope=\"\" itemtype=\"http://schema.org/JobPosting\">\n",
      "<h2 class=\"jobtitle\" id=\"jl_30ca570905ea778a\">\n",
      "<a class=\"turnstileLink\" data-tn-element=\"jobTitle\" href=\"/rc/clk?jk=30ca570905ea778a&amp;fccid=4e041af1d0af1bc8\" itemprop=\"title\" onclick=\"setRefineByCookie(['salest']); return rclk(this,jobmap[8],true,0);\" onmousedown=\"return rclk(this,jobmap[8],0);\" rel=\"nofollow\" target=\"_blank\" title=\"Data Scientist, Junior\"><b>Data</b> <b>Scientist</b>, Junior</a>\n",
      "</h2>\n",
      "<span class=\"company\" itemprop=\"hiringOrganization\" itemtype=\"http://schema.org/Organization\">\n",
      "<span itemprop=\"name\">\n",
      "<a href=\"/cmp/Booz-Allen-Hamilton\" onmousedown=\"this.href = appendParamsOnce(this.href, 'from=SERP&amp;campaignid=serp-linkcompanyname&amp;fromjk=30ca570905ea778a&amp;jcid=4e041af1d0af1bc8')\" target=\"_blank\">\n",
      "        Booz Allen Hamilton</a></span>\n",
      "</span>\n",
      "\n",
      " - <a class=\"turnstileLink slNoUnderline \" data-tn-element=\"reviewStars\" data-tn-variant=\"cmplinktst2\" href=\"/cmp/Booz-Allen-Hamilton/reviews\" onmousedown=\"this.href = appendParamsOnce(this.href, '?campaignid=cmplinktst2&amp;from=SERP&amp;jt=Data+Scientist%2C+Junior&amp;fromjk=30ca570905ea778a&amp;jcid=4e041af1d0af1bc8');\" target=\"_blank\" title=\"Booz Allen Hamilton reviews\">\n",
      "<span class=\"ratings\"><span class=\"rating\" style=\"width:44.4px\"><!-- --></span></span>\n",
      "<span class=\"slNoUnderline\">1,096 reviews</span></a>\n",
      " - <span itemprop=\"jobLocation\" itemscope=\"\" itemtype=\"http://schema.org/Place\"><span class=\"location\" itemprop=\"address\" itemscope=\"\" itemtype=\"http://schema.org/Postaladdress\"><span itemprop=\"addressLocality\">Arlington, VA</span></span></span>\n",
      " <a class=\"more_loc\" href=\"/jobs?q=data+scientist+%2420%2C000&amp;rbt=Data+Scientist%2C+Junior&amp;rbc=Booz+Allen+Hamilton&amp;jtid=59131814e02ee563&amp;jcid=4e041af1d0af1bc8&amp;grp=tcl\" onmousedown=\"ptk('addlloc');\" rel=\"nofollow\">+5 locations</a><table border=\"0\" cellpadding=\"0\" cellspacing=\"0\">\n",
      "<tr>\n",
      "<td class=\"snip\">\n",
      "<div>\n",
      "<span class=\"summary\" itemprop=\"description\">\n",
      "<b>Data</b> <b>Scientist</b>, Junior. Apply expertise in <b>data</b> mining and analysis to explore <b>data</b> from disparate sources and discover patterns and previously hidden insights...</span>\n",
      "</div>\n",
      "<div class=\"result-link-bar-container\">\n",
      "<div class=\"result-link-bar\"><span class=\"date\">8 days ago</span> <span class=\"tt_set\" id=\"tt_set_8\">  -  <a class=\"sl resultLink save-job-link \" href=\"#\" id=\"sj_30ca570905ea778a\" onclick=\"changeJobState('30ca570905ea778a', 'save', 'linkbar', false); return false;\" title=\"Save this job to my.indeed\">save job</a> - <a class=\"sl resultLink more-link \" href=\"#\" id=\"tog_8\" onclick=\"toggleMoreLinks('30ca570905ea778a'); return false;\">more...</a></span><div class=\"edit_note_content\" id=\"editsaved2_30ca570905ea778a\" style=\"display:none;\"></div><script>window['result_30ca570905ea778a'] = {\"showSource\": false, \"source\": \"Booz Allen Hamilton\", \"loggedIn\": false, \"showMyJobsLinks\": false,\"undoAction\": \"unsave\",\"relativeJobAge\": \"8 days ago\",\"jobKey\": \"30ca570905ea778a\", \"myIndeedAvailable\": true, \"showMoreActionsLink\": true, \"resultNumber\": 8, \"jobStateChangedToSaved\": false, \"searchState\": \"q=data scientist $20,000&amp;\", \"basicPermaLink\": \"http://www.indeed.com\", \"saveJobFailed\": false, \"removeJobFailed\": false, \"requestPending\": false, \"notesEnabled\": true, \"currentPage\" : \"serp\", \"mjwebtransgroupactive\" : false, \"sponsored\" : false,\"reportJobButtonEnabled\": false, \"showMyJobsHired\": false, \"showSaveForSponsored\": false, \"showJobAge\": true};</script></div></div>\n",
      "<div class=\"tab-container\">\n",
      "<div class=\"more-links-container result-tab\" id=\"tt_display_8\" style=\"display:none;\"><a class=\"close-link closeLink\" href=\"#\" onclick=\"toggleMoreLinks('30ca570905ea778a'); return false;\" title=\"Close\"></a><div class=\"more_actions\" id=\"more_8\"><ul><li><span class=\"mat\">View all <a href=\"/q-Booz-Allen-Hamilton-l-Arlington,-VA-jobs.html\" rel=\"nofollow\">Booz Allen Hamilton jobs in Arlington, VA</a> - <a href=\"/l-Arlington,-VA-jobs.html\">Arlington jobs</a></span></li><li><span class=\"mat\">Salary Search: <a href=\"/salaries/Data-Scientist-Salaries,-Arlington-VA\" onmousedown=\"this.href = appendParamsOnce(this.href, '?campaignid=serp-more&amp;fromjk=30ca570905ea778a&amp;from=serp-more');\">Data Scientist salaries in Arlington, VA</a></span></li><li><span class=\"mat\">Learn more about working at <a href=\"/cmp/Booz-Allen-Hamilton\" onmousedown=\"this.href = appendParamsOnce(this.href, '?fromjk=30ca570905ea778a&amp;from=serp-more&amp;campaignid=serp-more&amp;jcid=4e041af1d0af1bc8');\">Booz Allen Hamilton</a></span></li><li><span class=\"mat\"><a href=\"/cmp/Booz-Allen-Hamilton/faq\" onmousedown=\"this.href = appendParamsOnce(this.href, '?from=serp-more&amp;campaignid=serp-more&amp;fromjk=30ca570905ea778a&amp;jcid=4e041af1d0af1bc8');\">Booz Allen Hamilton questions about work, benefits, interviews and hiring process:</a><ul><li><a href=\"/cmp/Booz-Allen-Hamilton/faq/how-are-the-working-hours?quid=1an7bo61vb822fp6\" onmousedown=\"this.href = appendParamsOnce(this.href, '?from=serp-more&amp;campaignid=serp-more&amp;fromjk=30ca570905ea778a&amp;jcid=4e041af1d0af1bc8');\">How are the working hours?</a></li><li><a href=\"/cmp/Booz-Allen-Hamilton/faq/how-are-they-about-telecommuting?quid=1b62s7nfubvu9af0\" onmousedown=\"this.href = appendParamsOnce(this.href, '?from=serp-more&amp;campaignid=serp-more&amp;fromjk=30ca570905ea778a&amp;jcid=4e041af1d0af1bc8');\">How are they about telecommuting?</a></li></ul></span></li><li><span class=\"mat\">Related forums: <a href=\"/forum/cmp/Booz-Allen-Hamilton.html\">Booz Allen Hamilton</a> - <a href=\"/forum/loc/Arlington-Virginia.html\">Arlington, Virginia</a></span></li></ul></div></div><div class=\"dya-container result-tab\"></div>\n",
      "<div class=\"tellafriend-container result-tab email_job_content\"></div>\n",
      "<div class=\"sign-in-container result-tab\"></div>\n",
      "<div class=\"notes-container result-tab\"></div>\n",
      "</div>\n",
      "</td>\n",
      "</tr>\n",
      "</table>\n",
      "</div>\n",
      "<div class=\"lastRow row result\" data-jk=\"eef5e4f2c23117b2\" data-tn-component=\"organicJob\" id=\"p_eef5e4f2c23117b2\" itemscope=\"\" itemtype=\"http://schema.org/JobPosting\">\n",
      "<h2 class=\"jobtitle\" id=\"jl_eef5e4f2c23117b2\">\n",
      "<a class=\"turnstileLink\" data-tn-element=\"jobTitle\" href=\"/rc/clk?jk=eef5e4f2c23117b2&amp;fccid=4e041af1d0af1bc8\" itemprop=\"title\" onclick=\"setRefineByCookie(['salest']); return rclk(this,jobmap[9],true,0);\" onmousedown=\"return rclk(this,jobmap[9],0);\" rel=\"nofollow\" target=\"_blank\" title=\"Data Scientist / Intelligence Analyst\"><b>Data</b> <b>Scientist</b> / Intelligence Analyst</a>\n",
      "</h2>\n",
      "<span class=\"company\" itemprop=\"hiringOrganization\" itemtype=\"http://schema.org/Organization\">\n",
      "<span itemprop=\"name\">\n",
      "<a href=\"/cmp/Booz-Allen-Hamilton\" onmousedown=\"this.href = appendParamsOnce(this.href, 'from=SERP&amp;campaignid=serp-linkcompanyname&amp;fromjk=eef5e4f2c23117b2&amp;jcid=4e041af1d0af1bc8')\" target=\"_blank\">\n",
      "        Booz Allen Hamilton</a></span>\n",
      "</span>\n",
      "\n",
      " - <a class=\"turnstileLink slNoUnderline \" data-tn-element=\"reviewStars\" data-tn-variant=\"cmplinktst2\" href=\"/cmp/Booz-Allen-Hamilton/reviews\" onmousedown=\"this.href = appendParamsOnce(this.href, '?campaignid=cmplinktst2&amp;from=SERP&amp;jt=Data+Scientist+%5C%2F+Intelligence+Analyst&amp;fromjk=eef5e4f2c23117b2&amp;jcid=4e041af1d0af1bc8');\" target=\"_blank\" title=\"Booz Allen Hamilton reviews\">\n",
      "<span class=\"ratings\"><span class=\"rating\" style=\"width:44.4px\"><!-- --></span></span>\n",
      "<span class=\"slNoUnderline\">1,096 reviews</span></a>\n",
      " - <span itemprop=\"jobLocation\" itemscope=\"\" itemtype=\"http://schema.org/Place\"><span class=\"location\" itemprop=\"address\" itemscope=\"\" itemtype=\"http://schema.org/Postaladdress\"><span itemprop=\"addressLocality\">McLean, VA</span></span></span>\n",
      "<table border=\"0\" cellpadding=\"0\" cellspacing=\"0\">\n",
      "<tr>\n",
      "<td class=\"snip\">\n",
      "<div>\n",
      "<span class=\"summary\" itemprop=\"description\">\n",
      "<b>Data</b> <b>Scientist</b>/Intelligence Analyst. Experience with SPSS, SAS, Python, and other <b>data</b> science tools. Comprehend <b>data</b> science tools, including SAS, SPSS, and...</span>\n",
      "</div>\n",
      "<div class=\"result-link-bar-container\">\n",
      "<div class=\"result-link-bar\"><span class=\"date\">6 days ago</span> <span class=\"tt_set\" id=\"tt_set_9\">  -  <a class=\"sl resultLink save-job-link \" href=\"#\" id=\"sj_eef5e4f2c23117b2\" onclick=\"changeJobState('eef5e4f2c23117b2', 'save', 'linkbar', false); return false;\" title=\"Save this job to my.indeed\">save job</a> - <a class=\"sl resultLink more-link \" href=\"#\" id=\"tog_9\" onclick=\"toggleMoreLinks('eef5e4f2c23117b2'); return false;\">more...</a></span><div class=\"edit_note_content\" id=\"editsaved2_eef5e4f2c23117b2\" style=\"display:none;\"></div><script>window['result_eef5e4f2c23117b2'] = {\"showSource\": false, \"source\": \"Booz Allen Hamilton\", \"loggedIn\": false, \"showMyJobsLinks\": false,\"undoAction\": \"unsave\",\"relativeJobAge\": \"6 days ago\",\"jobKey\": \"eef5e4f2c23117b2\", \"myIndeedAvailable\": true, \"showMoreActionsLink\": true, \"resultNumber\": 9, \"jobStateChangedToSaved\": false, \"searchState\": \"q=data scientist $20,000&amp;\", \"basicPermaLink\": \"http://www.indeed.com\", \"saveJobFailed\": false, \"removeJobFailed\": false, \"requestPending\": false, \"notesEnabled\": true, \"currentPage\" : \"serp\", \"mjwebtransgroupactive\" : false, \"sponsored\" : false,\"reportJobButtonEnabled\": false, \"showMyJobsHired\": false, \"showSaveForSponsored\": false, \"showJobAge\": true};</script></div></div>\n",
      "<div class=\"tab-container\">\n",
      "<div class=\"more-links-container result-tab\" id=\"tt_display_9\" style=\"display:none;\"><a class=\"close-link closeLink\" href=\"#\" onclick=\"toggleMoreLinks('eef5e4f2c23117b2'); return false;\" title=\"Close\"></a><div class=\"more_actions\" id=\"more_9\"><ul><li><span class=\"mat\">View all <a href=\"/q-Booz-Allen-Hamilton-l-McLean,-VA-jobs.html\" rel=\"nofollow\">Booz Allen Hamilton jobs in McLean, VA</a> - <a href=\"/l-McLean,-VA-jobs.html\">McLean jobs</a></span></li><li><span class=\"mat\">Salary Search: <a href=\"/salaries/Data-Scientist-Salaries,-McLean-VA\" onmousedown=\"this.href = appendParamsOnce(this.href, '?campaignid=serp-more&amp;fromjk=eef5e4f2c23117b2&amp;from=serp-more');\">Data Scientist salaries in McLean, VA</a></span></li><li><span class=\"mat\">Learn more about working at <a href=\"/cmp/Booz-Allen-Hamilton\" onmousedown=\"this.href = appendParamsOnce(this.href, '?fromjk=eef5e4f2c23117b2&amp;from=serp-more&amp;campaignid=serp-more&amp;jcid=4e041af1d0af1bc8');\">Booz Allen Hamilton</a></span></li><li><span class=\"mat\"><a href=\"/cmp/Booz-Allen-Hamilton/faq\" onmousedown=\"this.href = appendParamsOnce(this.href, '?from=serp-more&amp;campaignid=serp-more&amp;fromjk=eef5e4f2c23117b2&amp;jcid=4e041af1d0af1bc8');\">Booz Allen Hamilton questions about work, benefits, interviews and hiring process:</a><ul><li><a href=\"/cmp/Booz-Allen-Hamilton/faq/how-are-the-working-hours?quid=1an7bo61vb822fp6\" onmousedown=\"this.href = appendParamsOnce(this.href, '?from=serp-more&amp;campaignid=serp-more&amp;fromjk=eef5e4f2c23117b2&amp;jcid=4e041af1d0af1bc8');\">How are the working hours?</a></li><li><a href=\"/cmp/Booz-Allen-Hamilton/faq/how-are-they-about-telecommuting?quid=1b62s7nfubvu9af0\" onmousedown=\"this.href = appendParamsOnce(this.href, '?from=serp-more&amp;campaignid=serp-more&amp;fromjk=eef5e4f2c23117b2&amp;jcid=4e041af1d0af1bc8');\">How are they about telecommuting?</a></li></ul></span></li><li><span class=\"mat\">Related forums: <a href=\"/forum/loc/Mclean-Virginia.html\">Mclean, Virginia</a> - <a href=\"/forum/cmp/Booz-Allen-Hamilton.html\">Booz Allen Hamilton</a></span></li></ul></div></div><div class=\"dya-container result-tab\"></div>\n",
      "<div class=\"tellafriend-container result-tab email_job_content\"></div>\n",
      "<div class=\"sign-in-container result-tab\"></div>\n",
      "<div class=\"notes-container result-tab\"></div>\n",
      "</div>\n",
      "</td>\n",
      "</tr>\n",
      "</table>\n",
      "</div>\n",
      "<div></div>\n",
      "<div class=\"WubEucQIlF hkvp2VD\">\n",
      "<div class=\"row result\" data-jk=\"4e5024fca7b26984\" id=\"pj_4e5024fca7b26984\">\n",
      "<!-- Previously this variable was used to indicate job board jobs, we have replaced that with a more accurate source type check -->\n",
      "<a class=\"jobtitle turnstileLink\" data-tn-element=\"jobTitle\" href=\"/pagead/clk?mo=r&amp;ad=-6NYlbfkN0DZbghDog6eAFViHltrtimeH7IE6OveQ-GQud_7SkddKUVOjea9zU8iES2CM_birFXBaZvdQZKAe2UoT-TSyJU8X3SPTcTBwER6QFmkbdOVYRDj978fPAq4iZozdRVxrHoLzQCM3u38aVfoZ5XgeuSo8RuFIq5cem2fBru-RZVpa3E2mlqEhY2By7BGs9ArasccibIR6H11jmhYXCzU5u2Ie5sYAr864e7ICxnmEscB-xYmeaSE97VuxzOhuU_8RgUqiZJWpAoUdBwtr4-Crie7fIFulNwTfyx5yHEFu-ntoiFayP_tDCD_mFfld9O_LGwh6yb1ObSK_SS_kZlfP9OLI9nH66gCpEQDGjrsKz5GJBe22t2VQSZtqDqAVD-z-kZxycn_CGaGQuAb67wX-FjaYVMs_eBWfC5cRLuvyadc2OE3hVqAB-4cOvN45oSFfvYgj6USjRMMRAB0glDsLtTWrfGQRpkso4u6rch8uhSaEemiLIiF9warUnNGf7nZP6HVg5wXaj6Q3jxzYAiNC3LfCCjRdlFBMnjIkOgeX8VTYpKPsRbo9_DWWXc2Sj2SPx6iL8O9Uu0RRRrapaQR5IbTY2duzZD9LIg-TB1uMPYNIctUk1SJ-BiFa9Cr0GCgQHc1rpunQh2_5tCfOvWrHEyv3uusDaXPmAkUjBLxmSHIOuhryDOpCYSJ1aDFRRXci6v0lYa1WRCtFGDZMNOVDLubKRoSqmE2zNg_wstCLW987iKglVf5RzMQVu9dP2dM2VWuvr6ddW42yTpR1YZf4XqgqTluYh2kLcO-MNdQS8wm64ZvO2ReGaf58KTSDPHk7RZb5kmUZmkEpzoO8-8cJmjVEpOUTEsHhsJDqE0-faUr1w==&amp;p=4&amp;sk=&amp;fvj=0\" id=\"sja4\" onclick=\"setRefineByCookie(['salest']); sjoc('sja4',0); convCtr('SJ', pingUrlsForGA)\" onmousedown=\"sjomd('sja4'); clk('sja4');\" rel=\"nofollow\" target=\"_blank\" title=\"Data Scientist\"><b>Data</b> <b>Scientist</b></a>\n",
      "<br/>\n",
      "<div class=\"sjcl\">\n",
      "<span class=\"company\">\n",
      "<a class=\"turnstileLink\" data-tn-element=\"companyName\" href=\"/cmp/Novetta\" onmousedown=\"this.href = appendParamsOnce(this.href, 'from=SERP&amp;campaignid=serp-linkcompanyname&amp;fromjk=4e5024fca7b26984&amp;jcid=571a41e861ff0130')\" target=\"_blank\">\n",
      "        Novetta</a></span>\n",
      "\n",
      " - <a class=\"turnstileLink slNoUnderline \" data-tn-element=\"reviewStars\" data-tn-variant=\"cmplinktst2\" href=\"/cmp/Novetta/reviews\" onmousedown=\"this.href = appendParamsOnce(this.href, '?campaignid=cmplinktst2&amp;from=SERP&amp;jt=Data+Scientist&amp;fromjk=4e5024fca7b26984&amp;jcid=571a41e861ff0130');\" target=\"_blank\" title=\"Novetta reviews\">\n",
      "<span class=\"ratings\"><span class=\"rating\" style=\"width:39.0px\"><!-- --></span></span>\n",
      "<span class=\"slNoUnderline\">11 reviews</span></a>\n",
      " - <span class=\"location\">Crystal City, VA</span>\n",
      "</div>\n",
      "<table border=\"0\" cellpadding=\"0\" cellspacing=\"0\"><tr><td class=\"snip\">\n",
      "<span class=\"summary\">Our customer uses their <b>data</b> warehouse as the foundation for a variety of applications and analytical workflows supporting intelligence analysis, threat tiering...</span>\n",
      "</td></tr></table>\n",
      "<div class=\"sjCapt\">\n",
      "<div class=\"result-link-bar-container\">\n",
      "<div class=\"result-link-bar\"><span class=\" jasx_serpsjlabel_poststGray \">Sponsored</span> - <span class=\"tt_set\" id=\"tt_set_13\"><a class=\"sl resultLink save-job-link \" href=\"#\" id=\"sj_4e5024fca7b26984\" onclick=\"changeJobState('4e5024fca7b26984', 'save', 'linkbar', true); return false;\" title=\"Save this job to my.indeed\">save job</a></span><div class=\"edit_note_content\" id=\"editsaved2_4e5024fca7b26984\" style=\"display:none;\"></div><script>window['sj_result_4e5024fca7b26984'] = {\"showSource\": false, \"source\": \"Novetta\", \"loggedIn\": false, \"showMyJobsLinks\": false,\"undoAction\": \"unsave\",\"jobKey\": \"4e5024fca7b26984\", \"myIndeedAvailable\": true, \"showMoreActionsLink\": false, \"resultNumber\": 13, \"jobStateChangedToSaved\": false, \"searchState\": \"q=data scientist $20,000&amp;\", \"basicPermaLink\": \"http://www.indeed.com\", \"saveJobFailed\": false, \"removeJobFailed\": false, \"requestPending\": false, \"notesEnabled\": false, \"currentPage\" : \"serp\", \"mjwebtransgroupactive\" : false, \"sponsored\" : true,\"showSponsor\" : true,\"reportJobButtonEnabled\": false, \"showMyJobsHired\": false, \"showSaveForSponsored\": true, \"showJobAge\": true};</script></div></div>\n",
      "<div class=\"tab-container\">\n",
      "<div class=\"sign-in-container result-tab\"></div>\n",
      "<div class=\"tellafriend-container result-tab email_job_content\"></div>\n",
      "</div>\n",
      "</div>\n",
      "</div>\n",
      "<div class=\"row sjlast result\" data-jk=\"0bb9716efd7444ed\" id=\"pj_0bb9716efd7444ed\">\n",
      "<!-- Previously this variable was used to indicate job board jobs, we have replaced that with a more accurate source type check -->\n",
      "<a class=\"jobtitle turnstileLink\" data-tn-element=\"jobTitle\" href=\"/pagead/clk?mo=r&amp;ad=-6NYlbfkN0Aq0rKIZcruiUNua2xSU7SkhpNUzYKIg2AxYEClhfFPH7k5YmpKoBcdllH6Z-vCI38aoVnJ8FfHh3U-fnW0gDNFo2Be7V7yt0zLsCS3nIS_xksJNV_2pAhWp0_smygQUBHJIsYirq_1u885mYfkb4oUmlDpdh4WXoanGHY2FY95sIy5qDphOEJZscA6ikfKdH-mBPqyMtqSfPW-e3hV1UKgrNoh955Bqwo6j4BQaipITBup1oqYV15CC38YwjWJEtHIiwV-F-oXdsSUY3NHzZrG7YROsZ1UDwIhwMP-j1FubYJRI56Mnoafdsl9fM1J57hrvLR_TqimKdX5NdAYHLGYKhiRmMacuOUAhkpRQW-wCPqm28UkqqVJ2c8jKUL76hWqmXZ8olsz4q5y7ijk__xiF3tULBeLNm_11cJY0q9U38Lhvs7TicB0k3oYncWLQvwqRgP6XnNEtpc0XFGzoQ_stmgUNBSrU2nJNp7sO3BLr_NPC71TsnfRinKk6KcIScKFmx2RbwcUrLg7hqPWCXyYvY2gahvEN1XtcTflHTrcHaLdGJE9js8J0WDXL8rFJ4239E3uT1msAQoj1tYczLrC7y7b4_O3kU4yD9N3m43u84iEDtMVYABuuZire2ICfzE=&amp;p=5&amp;sk=&amp;fvj=0\" id=\"sja5\" onclick=\"setRefineByCookie(['salest']); sjoc('sja5',0); convCtr('SJ', pingUrlsForGA)\" onmousedown=\"sjomd('sja5'); clk('sja5');\" rel=\"nofollow\" target=\"_blank\" title=\"Director of Analytics\">Director of Analytics</a>\n",
      "<br/>\n",
      "<div class=\"sjcl\">\n",
      "<span class=\"company\">\n",
      "<a class=\"turnstileLink\" data-tn-element=\"companyName\" href=\"/cmp/Dentaquest\" onmousedown=\"this.href = appendParamsOnce(this.href, 'from=SERP&amp;campaignid=serp-linkcompanyname&amp;fromjk=0bb9716efd7444ed&amp;jcid=e51726f3f862bbf5')\" target=\"_blank\">\n",
      "        DentaQuest</a></span>\n",
      "\n",
      " - <a class=\"turnstileLink slNoUnderline \" data-tn-element=\"reviewStars\" data-tn-variant=\"cmplinktst2\" href=\"/cmp/Dentaquest/reviews\" onmousedown=\"this.href = appendParamsOnce(this.href, '?campaignid=cmplinktst2&amp;from=SERP&amp;jt=Director+of+Analytics&amp;fromjk=0bb9716efd7444ed&amp;jcid=e51726f3f862bbf5');\" target=\"_blank\" title=\"Dentaquest reviews\">\n",
      "<span class=\"ratings\"><span class=\"rating\" style=\"width:41.4px\"><!-- --></span></span>\n",
      "<span class=\"slNoUnderline\">87 reviews</span></a>\n",
      " - <span class=\"location\">Boston, MA</span>\n",
      "</div>\n",
      "<table border=\"0\" cellpadding=\"0\" cellspacing=\"0\"><tr><td class=\"snip\">\n",
      "<span class=\"summary\">Mentor analysts and <b>data</b> <b>scientists</b> in <b>data</b> discovery, modeling efforts, presentations, and communications with external sponsors....</span>\n",
      "</td></tr></table>\n",
      "<div class=\"sjCapt\">\n",
      "<div class=\"result-link-bar-container\">\n",
      "<div class=\"result-link-bar\"><span class=\" jasx_serpsjlabel_poststGray \">Sponsored</span> - <span class=\"tt_set\" id=\"tt_set_14\"><a class=\"sl resultLink save-job-link \" href=\"#\" id=\"sj_0bb9716efd7444ed\" onclick=\"changeJobState('0bb9716efd7444ed', 'save', 'linkbar', true); return false;\" title=\"Save this job to my.indeed\">save job</a></span><div class=\"edit_note_content\" id=\"editsaved2_0bb9716efd7444ed\" style=\"display:none;\"></div><script>window['sj_result_0bb9716efd7444ed'] = {\"showSource\": false, \"source\": \"DentaQuest\", \"loggedIn\": false, \"showMyJobsLinks\": false,\"undoAction\": \"unsave\",\"jobKey\": \"0bb9716efd7444ed\", \"myIndeedAvailable\": true, \"showMoreActionsLink\": false, \"resultNumber\": 14, \"jobStateChangedToSaved\": false, \"searchState\": \"q=data scientist $20,000&amp;\", \"basicPermaLink\": \"http://www.indeed.com\", \"saveJobFailed\": false, \"removeJobFailed\": false, \"requestPending\": false, \"notesEnabled\": false, \"currentPage\" : \"serp\", \"mjwebtransgroupactive\" : false, \"sponsored\" : true,\"showSponsor\" : true,\"reportJobButtonEnabled\": false, \"showMyJobsHired\": false, \"showSaveForSponsored\": true, \"showJobAge\": true};</script></div></div>\n",
      "<div class=\"tab-container\">\n",
      "<div class=\"sign-in-container result-tab\"></div>\n",
      "<div class=\"tellafriend-container result-tab email_job_content\"></div>\n",
      "</div>\n",
      "</div>\n",
      "</div>\n",
      "</div><p class=\"footerJaPromoBubble\">\n",
      "<span>\n",
      "Never miss a job. Get new jobs emailed to you daily.</span>\n",
      "<script type=\"text/javascript\">setJaPromoCookie()</script>\n",
      "</p>\n",
      "<style>\n",
      ".fixed_ja_link_x { color:#00C; float: right; font-size: 22px; margin-top: -8px; font-weight: bold;}\n",
      ".fixed_ja_link_x:hover { cursor:pointer;}\n",
      ".fixed_ja_link { color:#00C; cursor: pointer;}\n",
      ".fixed_ja_link:hover { text-decoration: underline;}\n",
      ".fixed_ja_background { background-color: #ebebeb;}\n",
      "</style>\n",
      "<div id=\"bjobalertswrapper\">\n",
      "<div class=\"open jaPromoUi jaui aAfrMEJYnZ\" id=\"bjobalerts\">\n",
      "<div class=\"jobalertlabel\">\n",
      "<span class=\"jobalerts_title\" id=\"bjobalertlabel\"><span aria-label=\"alert icon\" class=\"ico\" role=\"img\"></span>Be the first to see new <b>data scientist $20,000 jobs</b></span>\n",
      "</div>\n",
      "<div class=\"jaform\" id=\"bjobalertform\">\n",
      "<span id=\"bjobalerttext\"></span><span id=\"bjobalertsending\"></span>\n",
      "<div id=\"bjobalertmessage\">\n",
      "<form action=\"/alert\" method=\"POST\" onsubmit=\"return addalertdelegate('data+scientist+%2420%2C000','','b','',this.email.value,'1bhdgud8k18jh5sa', this.verified.value, true, '661982', 'US', 'e6fefc8bfdb8e9fca4f3fc974a0f1415', this.recjobalert.checked, false, false);\">\n",
      "<input name=\"a\" type=\"hidden\" value=\"add\"/>\n",
      "<input name=\"q\" type=\"hidden\" value=\"data scientist $20,000\"/>\n",
      "<input name=\"l\" type=\"hidden\" value=\"\"/>\n",
      "<input name=\"radius\" type=\"hidden\" value=\"25\"/>\n",
      "<input name=\"noscript\" type=\"hidden\" value=\"1\"/>\n",
      "<input name=\"fr\" type=\"hidden\" value=\"b\"/>\n",
      "<input name=\"tk\" type=\"hidden\" value=\"1bhdgud8k18jh5sa\"/>\n",
      "<input id=\"balertverified\" name=\"verified\" type=\"hidden\" value=\"0\"/>\n",
      "<input name=\"alertparams\" type=\"hidden\" value=\"\"/>\n",
      "<label for=\"balertemail\">My email:</label> <input id=\"balertemail\" maxlength=\"100\" name=\"email\" size=\"25\" type=\"text\" value=\"\"/>\n",
      "<span class=\"indeed-apply-button\"><span class=\"indeed-apply-button-inner\"><input class=\"indeed-apply-button-label\" id=\"balertsubmit\" type=\"submit\" value=\"Activate\"/></span></span>\n",
      "<style type=\"text/css\">\n",
      "    .indeed-apply-button { cursor : pointer !important; display : inline-block !important; padding : 1px !important; height : 31px !important; -moz-border-radius : 7px !important; border-radius : 7px !important; position : relative !important; text-decoration : none !important;background-color:#79788B; filter:progid:DXImageTransform.Microsoft.gradient(startColorstr='#BCBBCD', endColorstr='#79788B', GradientType=0);background-image: -webkit-gradient(linear, center top, center bottom, from(#BCBBCD), to(#79788B)) !important;background-image: -webkit-linear-gradient(top, #BCBBCD, #79788B) !important;background-image: -moz-linear-gradient(top, #BCBBCD, #79788B) !important;background-image: -o-linear-gradient(top, #BCBBCD, #79788B) !important;background-image: -ms-linear-gradient(top, #BCBBCD, #79788B) !important;background-image: linear-gradient(top, #BCBBCD, #79788B) !important;-webkit-box-shadow: 0 1px 2px rgba(0,0,0,0.2) !important;-moz-box-shadow: 0 1px 2px rgba(0,0,0,0.2) !important;box-shadow: 0 1px 2px rgba(0,0,0,0.2) !important; } #indeed-ia-1329175190441-0:link, #indeed-ia-1329175190441-0:visited, #indeed-ia-1329175190441-0:hover, #indeed-ia-1329175190441-0:active { border : 0 !important; text-decoration : none !important; }\n",
      "\n",
      "    .indeed-apply-button:hover { filter:progid:DXImageTransform.Microsoft.gradient(startColorstr='#6D99F6', endColorstr='#1B45A3', GradientType=0);background-image: -webkit-gradient(linear, center top, center bottom, from(#6D99F6), to(#1B45A3)) !important;background-image: -webkit-linear-gradient(top, #6D99F6, #1B45A3) !important;background-image: -moz-linear-gradient(top, #6D99F6, #1B45A3) !important;background-image: -o-linear-gradient(top, #6D99F6, #1B45A3) !important;background-image: -ms-linear-gradient(top, #6D99F6, #1B45A3) !important;background-image: linear-gradient(top, #6D99F6, #1B45A3) !important; }\n",
      "\n",
      "    .indeed-apply-state-clicked .indeed-apply-button,\n",
      "    .indeed-apply-button:active { filter:progid:DXImageTransform.Microsoft.gradient(startColorstr='#B3BACA', endColorstr='#7C8493', GradientType=0);background-image: -webkit-gradient(linear, center top, center bottom, from(#B3BACA), to(#7C8493)) !important;background-image: -webkit-linear-gradient(top, #B3BACA, #7C8493) !important;background-image: -moz-linear-gradient(top, #B3BACA, #7C8493) !important;background-image: -o-linear-gradient(top, #B3BACA, #7C8493) !important;background-image: -ms-linear-gradient(top, #B3BACA, #7C8493) !important;background-image: linear-gradient(top, #B3BACA, #7C8493) !important;-webkit-box-shadow: none !important;-moz-box-shadow: none !important;box-shadow: none !important; }\n",
      "\n",
      "    .indeed-apply-button-inner { display : inline-block !important; height : 31px !important; -moz-border-radius : 6px !important; border-radius : 6px !important; font : 18px 'Helvetica Neue','Helvetica',Arial !important; font-weight : 200 !important; text-decoration : none !important; text-shadow : 0px 1px #F1F1F4 !important;background-color:#D9D9E2;  color: #FF6703;filter:progid:DXImageTransform.Microsoft.gradient(startColorstr='#FAFAFB', endColorstr='#D9D9E2', GradientType=0);background-image: -webkit-gradient(linear, center top, center bottom, from(#FAFAFB), to(#D9D9E2)) !important;background-image: -webkit-linear-gradient(top, #FAFAFB, #D9D9E2) !important;background-image: -moz-linear-gradient(top, #FAFAFB, #D9D9E2) !important;background-image: -o-linear-gradient(top, #FAFAFB, #D9D9E2) !important;background-image: -ms-linear-gradient(top, #FAFAFB, #D9D9E2) !important;background-image: linear-gradient(top, #FAFAFB, #D9D9E2) !important; }\n",
      "\n",
      "    .indeed-apply-button:active .indeed-apply-button-inner { filter:progid:DXImageTransform.Microsoft.gradient(startColorstr='#E8E8E9', endColorstr='#CBCBD3', GradientType=0);background-image: -webkit-gradient(linear, center top, center bottom, from(#E8E8E9), to(#CBCBD3)) !important;background-image: -webkit-linear-gradient(top, #E8E8E9, #CBCBD3) !important;background-image: -moz-linear-gradient(top, #E8E8E9, #CBCBD3) !important;background-image: -o-linear-gradient(top, #E8E8E9, #CBCBD3) !important;background-image: -ms-linear-gradient(top, #E8E8E9, #CBCBD3) !important;background-image: linear-gradient(top, #E8E8E9, #CBCBD3) !important; }\n",
      "\n",
      "    .indeed-apply-button-label {cursor: pointer; text-align : center !important; border:0; background: transparent;font-size: 12px; font-family: Arial, sans-serif; padding:3px 14px 2px 12px; margin:0; line-height: 26px; }\n",
      "\n",
      "    .indeed-apply-button:active .indeed-apply-button-label,\n",
      "    .indeed-apply-state-clicked .indeed-apply-button-label { -ms-filter: \"progid:DXImageTransform.Microsoft.Alpha(Opacity=0.75)\" !important;filter: alpha(opacity=75) !important;-moz-opacity: 0.75 !important;-khtml-opacity: 0.75 !important;opacity: 0.75 !important; }\n",
      "\n",
      "    #talertemail, #balertemail {  height: 27px; line-height: 24px; padding-left: 6px; padding-right: 6px; font-size: 14px; font-family: Arial, sans-serif; }\n",
      "\n",
      "    .jobalertform-terms-outer-wrapper label {  position: fixed;  font-size: 1px;  transform: scale(0.3);  }\n",
      "\n",
      "    .jobalertform-terms-inner-wrapper {  position: relative;  z-index: 20;  width: 50%;  background: #ebebeb;  height: 12px;  }\n",
      "</style>\n",
      "<label for=\"brecjobalert\" id=\"brecjobalertlabel\">\n",
      "<input checked=\"\" id=\"brecjobalert\" name=\"recjobalert\" type=\"checkbox\"/>\n",
      "<span>Also get an email with jobs recommended just for me</span>\n",
      "</label>\n",
      "</form>\n",
      "<span class=\"caption\">\n",
      "You can cancel email alerts at any time.</span>\n",
      "</div>\n",
      "</div>\n",
      "</div>\n",
      "</div>\n",
      "<script type=\"text/javascript\">\n",
      "function ptk(st,p) {\n",
      "document.cookie = 'PTK=\"tk=&type=jobsearch&subtype=' + st + (p ? '&' + p : '')\n",
      " + (st == 'pagination' ? '&fp=1' : '')\n",
      "+'\"; path=/';\n",
      "}\n",
      "</script>\n",
      "<script type=\"text/javascript\">\n",
      "function pclk(event) {\n",
      "var evt = event || window.event;\n",
      "var target = evt.target || evt.srcElement;\n",
      "var el = target.nodeType == 1 ? target : target.parentNode;\n",
      "var tag = el.tagName.toLowerCase();\n",
      "if (tag == 'span' || tag == 'a') {\n",
      "ptk('pagination');\n",
      "}\n",
      "return true;\n",
      "}\n",
      "</script>\n",
      "<div class=\"pagination\" onmousedown=\"pclk(event);\">Results Page:  <b>1</b>  <a href=\"/jobs?q=data+scientist+%2420%2C000&amp;start=10&amp;pp=AAoAAAAAAAAAAAAAAAEO1QtuAQAcV0On5GRNuVNfX3DvLB5DwDlHAQmhXt-__3zV9DuO\"><span class=\"pn\">2</span></a>  <a href=\"/jobs?q=data+scientist+%2420%2C000&amp;start=20&amp;pp=ABQAAAAAAAAAAAAAAAEO1QtuAQEBCmPGKhMQz85u5ISpEyEClAmlkC1p_zD1bViFQqk6f2dAEcrutDw3qNOlUeONuRrSv-w\"><span class=\"pn\">3</span></a>  <a href=\"/jobs?q=data+scientist+%2420%2C000&amp;start=30&amp;pp=AB4AAAAAAAAAAAAAAAEO1QtuAQEBCwEqNNi2AUithQkYTYojy-HvMvwqEDUkvfiqQVsmithQDsF9DWfzE3wpw3jyElTgX_l8Ur_XotxivPhaeIf6Uj2xG-0\"><span class=\"pn\">4</span></a>  <a href=\"/jobs?q=data+scientist+%2420%2C000&amp;start=40&amp;pp=ACgAAAAAAAAAAAAAAAEO1QtuAQEBDRH4pEot9_jiNLlFyah46PnzjpM5CVwAr20s0jCBXEFC6W8m-LcYUfIh2wdhsWVW1oSf-nPV7wZ8ufw520G_C6EQ3nL6dg1GML-491chs_orYNZX\"><span class=\"pn\">5</span></a>   <a href=\"/jobs?q=data+scientist+%2420%2C000&amp;start=10&amp;pp=AAoAAAAAAAAAAAAAAAEO1QtuAQAcV0On5GRNuVNfX3DvLB5DwDlHAQmhXt-__3zV9DuO\"><span class=\"pn\"><span class=\"np\">Next »</span></span></a></div>\n",
      "</td>\n",
      "time: 46.4 ms\n"
     ]
    }
   ],
   "source": [
    "print soup.find('td',{'id':'resultsCol'})"
   ]
  },
  {
   "cell_type": "markdown",
   "metadata": {},
   "source": [
    "- We should grab our data listing by listing as opposed to scraping all jobs, then all companies, etc.. for the entire page. This will ensure that missing data won't throw off which values should belong to which job.\n",
    "\n",
    "- To do this, we can make a list of each job posting because they're all in div tags with a class that ends in 'result.'  \n",
    "\n",
    "- There are 5 sponsored jobs per page, and these all have funky class name variations. The 10 regular listings also have different class names. The following list contains all possible class names:\n",
    "\n",
    "    \"row result\", \"row sjlast result\", \" row result\", \"lastRow row result\"\n",
    "\n",
    "Using regex will eliminate the need to explicitly search for each of these tags. The following code will account for everything above."
   ]
  },
  {
   "cell_type": "code",
   "execution_count": 5,
   "metadata": {},
   "outputs": [
    {
     "name": "stdout",
     "output_type": "stream",
     "text": [
      "<div class=\"row result\" data-jk=\"bfc578d23604c2fc\" id=\"pj_bfc578d23604c2fc\">\n",
      "<!-- Previously this variable was used to indicate job board jobs, we have replaced that with a more accurate source type check -->\n",
      "<a class=\"jobtitle turnstileLink\" data-tn-element=\"jobTitle\" href=\"/pagead/clk?mo=r&amp;ad=-6NYlbfkN0D_L61JJZVH4SBayrvFEFSIDhxtpSFhtUBfRgL_yS-y4KQnwxgyzWhCsPoBnwyjC7i1224RkXyNjCKyMmAnielysSbfAScZoI_OgdN6cH2LUiHe9CeKg9jliNU9_-djYbNyJ2RAQGYO0xiVwMIc48Gv2SU4pEDHN7m15eB7x73iTEBPM8wde0m5wE7qft5c1dgVbTtYuirrJ2MXi9rtgLqz_3z08os3klbEk0GHijoK6eLDwntLPeFfr_xOkMIszVbY7ND_um_nHwqIVA9lBSsA7fBd3NYR17wN-15QAauVNP4tWBdZdpy033Nv_vgEHgH6O9Hz3KRwdtj2ZeLqnT1meQmHWf-Gnbw41IN0pJwRzm0hokMz9Q-UuyORdDuPt3-5X7v9N3IHUaeM7qKkWprW1kxiCaoU9Pefy2_xxl35xabC-xqCbXAyXSf2xvRndf9KyuYie6AYtnBm6V22pbM65uMS7kdZM0yFQhHpIG2GnKKG4vBrBxpn3yUYO7M8kX8kivKGnkynA9NIY8D1q_-hoTWIEn7l245CVw6AmDCRFdFTaqg8vqFCxXlxKvyk3UbduU1EpGT66HM8X5TebNvOoZUzvecR4zbrctZR8KUXa_3_xuhhS692adF_k0TENlH3kKF9ciTIzZh5WXG3cVszyFJf-wDh3E5ZxqeivjbXE-DXY-1Re1Wz_kWb1BfRrMdfigQuItMUd3ZOj9v0yLbtWhJDA_uE1nBn-A3z4mF6pNkFRIqLFE31v8QYj50yhtF8NSR1ny-YxXwMfJYzHNmbWKTtRloQzpHG6kyCOyGEW8FxlNBvJk49yVGY0YcbGZ36RRm45Ek6QLsxt2D0tS8ZtkK1mZyhyq_vAnRLe41m367xi--p8wKwsk_ntnHPnVUW8AEUTJ91pycaiqK5-nLPm2blu-1HbbqL8lMtnEghTNUOD5kosJwFtoyQFF4SLf9Oh1xwepQhqEEFffPjbG007k1VjztVdhNlOEn3Y-nQX4OEdHQfagG7RnTDoi_JyjUQGlR7sBLb-exQSCcJrExd&amp;p=1&amp;sk=&amp;fvj=0\" id=\"sja1\" onclick=\"setRefineByCookie(['salest']); sjoc('sja1',0); convCtr('SJ', pingUrlsForGA)\" onmousedown=\"sjomd('sja1'); clk('sja1');\" rel=\"nofollow\" target=\"_blank\" title=\"Statistical Modeling Analyst\">Statistical Modeling Analyst</a>\n",
      "<br/>\n",
      "<div class=\"sjcl\">\n",
      "<span class=\"company\">\n",
      "<a class=\"turnstileLink\" data-tn-element=\"companyName\" href=\"/cmp/Nestle-USA\" onmousedown=\"this.href = appendParamsOnce(this.href, 'from=SERP&amp;campaignid=serp-linkcompanyname&amp;fromjk=bfc578d23604c2fc&amp;jcid=bb384ca0a6d3d491')\" target=\"_blank\">\n",
      "        Nestle USA</a></span>\n",
      "\n",
      " - <a class=\"turnstileLink slNoUnderline \" data-tn-element=\"reviewStars\" data-tn-variant=\"cmplinktst2\" href=\"/cmp/Nestle-USA/reviews\" onmousedown=\"this.href = appendParamsOnce(this.href, '?campaignid=cmplinktst2&amp;from=SERP&amp;jt=Statistical+Modeling+Analyst&amp;fromjk=bfc578d23604c2fc&amp;jcid=bb384ca0a6d3d491');\" target=\"_blank\" title=\"Nestle USA reviews\">\n",
      "<span class=\"ratings\"><span class=\"rating\" style=\"width:43.8px\"><!-- --></span></span>\n",
      "<span class=\"slNoUnderline\">724 reviews</span></a>\n",
      " - <span class=\"location\">Arlington, VA</span>\n",
      "</div>\n",
      "<table border=\"0\" cellpadding=\"0\" cellspacing=\"0\"><tr><td class=\"snip\">\n",
      "<span class=\"summary\">Demand signal <b>data</b> will be incorporated into forecast reporting and utilized for statistical modeling. Participate in demand signal <b>data</b> reporting and analysis...</span>\n",
      "</td></tr></table>\n",
      "<div class=\"sjCapt\">\n",
      "<div class=\"result-link-bar-container\">\n",
      "<div class=\"result-link-bar\"><span class=\" jasx_serpsjlabel_poststGray \">Sponsored</span> - <span class=\"tt_set\" id=\"tt_set_10\"><a class=\"sl resultLink save-job-link \" href=\"#\" id=\"sj_bfc578d23604c2fc\" onclick=\"changeJobState('bfc578d23604c2fc', 'save', 'linkbar', true); return false;\" title=\"Save this job to my.indeed\">save job</a></span><div class=\"edit_note_content\" id=\"editsaved2_bfc578d23604c2fc\" style=\"display:none;\"></div><script>window['sj_result_bfc578d23604c2fc'] = {\"showSource\": false, \"source\": \"Nestle USA\", \"loggedIn\": false, \"showMyJobsLinks\": false,\"undoAction\": \"unsave\",\"jobKey\": \"bfc578d23604c2fc\", \"myIndeedAvailable\": true, \"showMoreActionsLink\": false, \"resultNumber\": 10, \"jobStateChangedToSaved\": false, \"searchState\": \"q=data scientist $20,000&amp;\", \"basicPermaLink\": \"http://www.indeed.com\", \"saveJobFailed\": false, \"removeJobFailed\": false, \"requestPending\": false, \"notesEnabled\": false, \"currentPage\" : \"serp\", \"mjwebtransgroupactive\" : false, \"sponsored\" : true,\"showSponsor\" : true,\"reportJobButtonEnabled\": false, \"showMyJobsHired\": false, \"showSaveForSponsored\": true, \"showJobAge\": true};</script></div></div>\n",
      "<div class=\"tab-container\">\n",
      "<div class=\"sign-in-container result-tab\"></div>\n",
      "<div class=\"tellafriend-container result-tab email_job_content\"></div>\n",
      "</div>\n",
      "</div>\n",
      "</div>\n",
      "time: 70.3 ms\n"
     ]
    }
   ],
   "source": [
    "print soup.find('td',{'id':'resultsCol'}).find_all('div', {'class': re.compile(\"result$\")})[0]"
   ]
  },
  {
   "cell_type": "markdown",
   "metadata": {},
   "source": [
    "- In order to make predictions about salaries, I want to collect the job title, company, location, description, and most importantly, SALARY.\n",
    "- Create functions for finding each attribute for each job in the list, so that the overall webscraping script is easy to read"
   ]
  },
  {
   "cell_type": "code",
   "execution_count": 6,
   "metadata": {},
   "outputs": [
    {
     "name": "stdout",
     "output_type": "stream",
     "text": [
      "time: 31.8 ms\n"
     ]
    }
   ],
   "source": [
    "'''\n",
    "Each function finds the specific HTML tag and/or attribute/ID \n",
    "that leads directly to the information needed.\n",
    "\n",
    "In order to prevent errors, each has a 'try, except' statement.\n",
    "Whenever a listing doesn't provide anything for any of the attributes,\n",
    "we will simply 'pass' and essentially skip the attribute.\n",
    "'''\n",
    "\n",
    "\n",
    "def get_job(webpage):\n",
    "    tag = webpage.find('a', title=True, attrs={'data-tn-element':'jobTitle'})\n",
    "    try:\n",
    "        return tag['title']\n",
    "    except:\n",
    "        pass\n",
    "\n",
    "def get_company(webpage):\n",
    "    tag = webpage.find('span', attrs={'class':'company'})\n",
    "    try:\n",
    "        return tag.text.strip('\\n') # many company names are messy and have newline code that we can strip\n",
    "    except:\n",
    "        pass\n",
    "    \n",
    "def get_location(webpage):\n",
    "    tag = webpage.find('span', attrs={'class':'location'})\n",
    "    try:\n",
    "        return tag.text\n",
    "    except:\n",
    "        pass    \n",
    "\n",
    "def get_salary(webpage):\n",
    "    try:\n",
    "        return webpage.find('table').tr.td.nobr.renderContents() ## for regular listings\n",
    "    except:\n",
    "        try:\n",
    "            return webpage.find('div').div.text ## for sponsored listings\n",
    "        except:\n",
    "            pass\n",
    "\n",
    "def get_description(webpage):\n",
    "    description = webpage.find('span', attrs={'itemprop':\"description\"})\n",
    "    try:\n",
    "        return description.text.strip('\\n') # many descriptions have the newline code that can be stripped\n",
    "    except:\n",
    "        pass"
   ]
  },
  {
   "cell_type": "markdown",
   "metadata": {},
   "source": [
    "- I found that some numbers are in a string and we can't just convert to a number with pandas. Below is a function to handle this:"
   ]
  },
  {
   "cell_type": "code",
   "execution_count": 5,
   "metadata": {},
   "outputs": [
    {
     "name": "stdout",
     "output_type": "stream",
     "text": [
      "time: 8.39 ms\n"
     ]
    }
   ],
   "source": [
    "## given a string of a number with commas, convert to float\n",
    "def str_to_number(string):\n",
    "    import locale \n",
    "    string = string.strip('$')\n",
    "    locale.setlocale(locale.LC_ALL, 'en_US.UTF-8') #for american comma notation\n",
    "    num = locale.atof(string)\n",
    "    return float(num)"
   ]
  },
  {
   "cell_type": "markdown",
   "metadata": {},
   "source": [
    "## Step II. Scrape job postings from Indeed.com & Clean"
   ]
  },
  {
   "cell_type": "markdown",
   "metadata": {},
   "source": [
    "The general outline of my scraper function is as follows:\n",
    "- (for all runs post initial run) compile all previously collected data into a pandas dataframe\n",
    "- Check the main page for the total number of listings, so the scraper knows how long to run\n",
    "- For each page and for each job listing, use the attribute functions\n",
    "- \n",
    "#### Spoiler!!\n",
    "The following function scrapes the job postings, puts them into a Pandas dataframe, then exports them to a csv file.\n",
    "- After running the scraper a few times, I decided that I wanted to begin the function by loading each previously exported list of jobs into a dataframe and try to only add new jobs that haven't already been exported."
   ]
  },
  {
   "cell_type": "code",
   "execution_count": 6,
   "metadata": {},
   "outputs": [
    {
     "name": "stdout",
     "output_type": "stream",
     "text": [
      "time: 20.5 ms\n"
     ]
    }
   ],
   "source": [
    "## import the results that have been previously exported\n",
    "def compile_files():\n",
    "    import glob\n",
    "    import pandas as pd\n",
    "    import numpy as np\n",
    "    indeed_csvs =  '../../DC-DSI4/projects/03-Project/indeed/'\n",
    "    files = glob.glob(indeed_csvs + '*.csv') # get a list of the csv files\n",
    "    indeed_final = pd.DataFrame(columns=['job','company','location','salary','description'])\n",
    "    for f in files: # read each csv file in\n",
    "        f = pd.read_csv(f, names=['job','company','location','salary','description'],low_memory=False)\n",
    "        indeed_final = indeed_final.append(f)\n",
    "    # drop duplicates, get rid of jobs without salaries\n",
    "    indeed_final.drop_duplicates(inplace=True)\n",
    "    indeed_final.dropna(subset=['salary'],how='any',inplace=True)\n",
    "\n",
    "    print 'Size = ',len(indeed_final)\n",
    "    print 'Salaries = ', len(indeed_final[indeed_final.salary.notnull()])\n",
    "\n",
    "    return indeed_final"
   ]
  },
  {
   "cell_type": "markdown",
   "metadata": {},
   "source": [
    "Without further ado, the scraping function! This includes everything noted in Step 1."
   ]
  },
  {
   "cell_type": "code",
   "execution_count": 9,
   "metadata": {
    "focus": false,
    "id": "6e259594-1c52-436b-ab9e-527e071941c1"
   },
   "outputs": [
    {
     "name": "stdout",
     "output_type": "stream",
     "text": [
      "time: 212 ms\n"
     ]
    }
   ],
   "source": [
    "def scrape_indeed():\n",
    "    \n",
    "    '''\n",
    "    /// 1/6. Compile previously scraped results to see if there are new jobs to add \\\\\\\n",
    "    '''\n",
    "    indeed = compile_files()  \n",
    "    indeed.reset_index(drop=True,inplace=True)\n",
    "    base = len(indeed)\n",
    "    \n",
    "    \n",
    "    \n",
    "    '''\n",
    "    /// 2/6. Set up function with necessary libraries, print status notifications, set URL format \\\\\\\n",
    "    '''\n",
    "    import requests\n",
    "    from bs4 import BeautifulSoup\n",
    "    import datetime\n",
    "    import time\n",
    "    import re\n",
    "    import numpy as np\n",
    "    \n",
    "    start = datetime.datetime.now()\n",
    "    \n",
    "    print 'Start time: ',start.strftime(\"%Y-%m-%d %H:%M:%S\")\n",
    "    print 'Base file has ', base, ' records'\n",
    "    print 'Salaries = ', len(indeed[indeed.salary.notnull()])\n",
    "    \n",
    "    ## specify structure of URL. stop at 'start=' so that we can \n",
    "    ## dynamically change the URL and flip through pages of results\n",
    "    url_base = \"http://www.indeed.com/jobs?q=data+scientist+%2420%2C000&fromage=last&start=\"\n",
    "    \n",
    "\n",
    "    \n",
    "    '''\n",
    "    /// 3/6. Find the total number of job listings for the search from the first page of results \\\\\\\n",
    "    '''\n",
    "    x=0 # if we set the start variable in the URL to 0 to begin with, it will pull up results 1-10\n",
    "    url = url_base+str(x) \n",
    "\n",
    "    page = requests.get(url).content\n",
    "    soup = BeautifulSoup(page,'lxml')\n",
    "    print 'Page scraped & souped'\n",
    "    \n",
    "    for results in soup.find('div', attrs={'id':'searchCount'}):\n",
    "        count = str(results).split()         # take the full line that says 'Jobs x to y of z' and turn into a list\n",
    "        total = count[len(count)-1]          # set total to z, the total number of results\n",
    "        total = str_to_int(total) # since there are commas in numbers > 999, this function will deal with that and convert to int\n",
    "        ## I've found that after a few hundred pages, no new jobs are found\n",
    "        ## If we reduce the total by a bit, we can make sure the function isn't running\n",
    "        ## for an unnecessary amount of time and making an unnecessary number of requests to Indeed.com\n",
    "        total = total/5\n",
    "                \n",
    "        \n",
    "    '''\n",
    "    /// 4/6. Scrape!!! \\\\\\\n",
    "    '''\n",
    "    while x <= total: \n",
    "        url_new_page = url + str(x)\n",
    "        page = requests.get(url_new_page).content\n",
    "        soup = BeautifulSoup(page,\"lxml\")\n",
    "        \n",
    "        # the top of the page says 'Showing results X through Y of Z.'\n",
    "        # use this for status notification\n",
    "        for num_listings in soup.find('div', attrs={'id':'searchCount'}) :\n",
    "            num_listings = num_listings.split()[3]\n",
    "        \n",
    "        main = soup.find('td',{'id':'resultsCol'})   # limit our searching to solely the results portion of the page\n",
    "        results = main.find_all('div', {'class': re.compile(\"result$\")}) # create a list consisting only of the 15 results\n",
    "\n",
    "        for i in range(len(results)):\n",
    "            job = get_job(results[i])\n",
    "            company = get_company(results[i])         # put all companies for each posting on curent results page into companies list\n",
    "            location = get_location(results[i])       # put all locations for each posting on current results page into locations list\n",
    "            salary = get_salary(results[i])           # put all salaries for each posting on current results page into salaries list\n",
    "            description = get_description(results[i]) # put all descriptions for each posting on current results page into descriptions list\n",
    "\n",
    "            add_job = pd.DataFrame([[job, company, location, salary, description]], columns = ['job','company','location','salary','description'])\n",
    "            a = np.array(add_job)\n",
    "            # If we don't already have this job, add it\n",
    "            if (indeed == a).all(1).any() == False:\n",
    "                indeed = indeed.append(add_job)                \n",
    "\n",
    "\n",
    "        '''\n",
    "        /// 5/6. Print status notifications and prep for next page of results\n",
    "        '''       \n",
    "        x+=10\n",
    "        new = len(indeed) - base\n",
    "        elapsed = datetime.datetime.now() - start\n",
    "        remaining = total - x\n",
    "        est_pages = remaining/10\n",
    "        \n",
    "        print 'Added ', new, ' jobs-- scraped ',num_listings,' of ', total, ' listings in ', elapsed, '; ', est_pages, ' pages remaining'\n",
    "    \n",
    "        time.sleep(0.5)\n",
    "    \n",
    "    \n",
    "    '''\n",
    "    /// 6/6. CONCLUSION. Print elapsed time and export results to CSV\n",
    "    '''\n",
    "    ## set a variable to use in the filename so that\n",
    "    ## they're always unique and never overwritten\n",
    "    finish = datetime.datetime.now()\n",
    "    now = finish.strftime(\"%Y-%m-%d %H:%M:%S\")\n",
    "    elapsed = finish-start\n",
    "    print 'Finish time: ',now\n",
    "    print 'Elapsed: ',elapsed\n",
    "\n",
    "    # export\n",
    "    indeed = pd.DataFrame(indeed)\n",
    "    indeed.drop_duplicates(inplace=True)\n",
    "    indeed.to_csv('/Users/jennydoyle/Desktop/dsi/DC-DSI4/projects/03-Project/indeed/'+now+'.csv',sep=',', encoding='utf-8')\n",
    "    return indeed\n",
    "\n",
    "    print 'Base file has ', len(indeed), ' records'\n",
    "    print 'Salaries = ', len(indeed[indeed.salary.notnull()])    "
   ]
  },
  {
   "cell_type": "markdown",
   "metadata": {
    "focus": false,
    "id": "243e949e-2742-40af-872e-fec475fd306c"
   },
   "source": [
    "#### Load in the the data of scraped salaries"
   ]
  },
  {
   "cell_type": "code",
   "execution_count": 7,
   "metadata": {
    "focus": false,
    "id": "588f9845-6143-4bcc-bfd1-85d45b79303d"
   },
   "outputs": [
    {
     "name": "stdout",
     "output_type": "stream",
     "text": [
      "Size =  864\n",
      "Salaries =  864\n",
      "time: 601 ms\n"
     ]
    }
   ],
   "source": [
    "indeed = compile_files()\n",
    "indeed.reset_index(drop=True,inplace=True)"
   ]
  },
  {
   "cell_type": "markdown",
   "metadata": {},
   "source": [
    "### Clean, clean, clean"
   ]
  },
  {
   "cell_type": "markdown",
   "metadata": {},
   "source": [
    "#### Clean up salaries"
   ]
  },
  {
   "cell_type": "code",
   "execution_count": 8,
   "metadata": {},
   "outputs": [
    {
     "name": "stdout",
     "output_type": "stream",
     "text": [
      "Number of annual salaries =  653\n",
      "time: 559 ms\n"
     ]
    }
   ],
   "source": [
    "import numpy as np\n",
    "\n",
    "## create a sub-df consisting only of jobs with annual salaries\n",
    "df=indeed[indeed.salary.notnull()&indeed.salary.str.contains('year')]\n",
    "df.salary = df.salary.astype(str)\n",
    "print \"Number of annual salaries = \", len(df)\n",
    "\n",
    "## Some salaries are listed as a range\n",
    "## turn the salary into a list so we can grab the high and low ends, then average\n",
    "df['salary_list'] = df.salary.str.split()\n",
    "\n",
    "mask = df.salary.str.contains('-')\n",
    "df['low_end'], df['high_end'], df['salary_clean'] = np.NaN, np.NaN, np.NaN\n",
    "df['low_end'][mask] = map(lambda x: x[0],df.salary_list.loc[mask])\n",
    "df['high_end'][mask] = map(lambda x: x[2],df.salary_list.loc[mask])"
   ]
  },
  {
   "cell_type": "code",
   "execution_count": 9,
   "metadata": {},
   "outputs": [
    {
     "name": "stdout",
     "output_type": "stream",
     "text": [
      "time: 786 ms\n"
     ]
    }
   ],
   "source": [
    "# Set the Salary_clean field = first element in salary list (intended to grab salaries that don't list a range)\n",
    "df.salary_clean[df.salary.notnull()]= [x[0] for x in df.salary_list]\n",
    "df.salary_clean[df.low_end.notnull()&df.high_end.notnull()] = np.NaN\n",
    "\n",
    "# convert to numeric so that we can average the ranges\n",
    "for col in ['salary_clean','low_end','high_end']:\n",
    "    df[col][df[col].notnull()] = [str_to_number(x) for x in df[col][df[col].notnull()]]\n",
    "\n",
    "# average out ranges\n",
    "df.salary_clean[df.salary_clean.isnull()] = (df.low_end + df.high_end) / 2"
   ]
  },
  {
   "cell_type": "markdown",
   "metadata": {},
   "source": [
    "#### Clean up locations"
   ]
  },
  {
   "cell_type": "code",
   "execution_count": 10,
   "metadata": {},
   "outputs": [
    {
     "name": "stdout",
     "output_type": "stream",
     "text": [
      "time: 239 ms\n"
     ]
    }
   ],
   "source": [
    "## remove areas in parentheses\n",
    "df.location = df.location.str.upper()\n",
    "df.location = df.location.str.replace('(\\((.*?)\\))','')\n",
    "df.location = df.location.str.strip()\n",
    "\n",
    "## remove zip codes\n",
    "df.location = df.location.str.replace(r'(\\d{5}(\\-\\d{4})?)$','')\n",
    "df.location = df.location.str.strip()"
   ]
  },
  {
   "cell_type": "code",
   "execution_count": 11,
   "metadata": {},
   "outputs": [
    {
     "name": "stdout",
     "output_type": "stream",
     "text": [
      "time: 185 ms\n"
     ]
    }
   ],
   "source": [
    "## create feature with states\n",
    "df['state'] = df.location.str.findall('\\,\\s(\\D{2})$')\n",
    "## hmm why is it in a list? take out\n",
    "df.state = [i[0] if len(i)>0 else None for i in df.state]\n",
    "\n",
    "## remove state from location\n",
    "df.location = df.location.str.replace('(\\,\\s\\D{2})$','')"
   ]
  },
  {
   "cell_type": "markdown",
   "metadata": {},
   "source": [
    "#### Clean up companies"
   ]
  },
  {
   "cell_type": "code",
   "execution_count": 12,
   "metadata": {},
   "outputs": [
    {
     "name": "stdout",
     "output_type": "stream",
     "text": [
      "time: 104 ms\n"
     ]
    }
   ],
   "source": [
    "df.company = df.company.str.strip()\n",
    "df.company = df.company.str.upper()"
   ]
  },
  {
   "cell_type": "markdown",
   "metadata": {
    "focus": false,
    "id": "c7631f51-07f2-4c79-a093-3e9bc7849a48"
   },
   "source": [
    "#### We want to predict a binary variable - whether the salary was low or high. Compute the median salary and create a new binary variable that is true when the salary is high (above the median)"
   ]
  },
  {
   "cell_type": "code",
   "execution_count": 13,
   "metadata": {
    "focus": false,
    "id": "c20d2498-151c-44c3-a453-3a333c79a0ac"
   },
   "outputs": [
    {
     "name": "stdout",
     "output_type": "stream",
     "text": [
      "time: 70.1 ms\n"
     ]
    }
   ],
   "source": [
    "###\n",
    "### BINARY TARGET FEATURE -- above (1) median or below (0) \n",
    "###\n",
    "\n",
    "df = df[df.salary_clean.notnull()]\n",
    "median_salary = np.median(df.salary_clean)\n",
    "\n",
    "# set our binary variable high_salary = 1, then wherever the clean salary is below the median, change to 0\n",
    "df['high_salary'] = 1\n",
    "df['high_salary'][df.salary_clean <= median_salary] = 0 "
   ]
  },
  {
   "cell_type": "code",
   "execution_count": 14,
   "metadata": {},
   "outputs": [
    {
     "data": {
      "text/plain": [
       "(87048.0, 653)"
      ]
     },
     "execution_count": 14,
     "metadata": {},
     "output_type": "execute_result"
    },
    {
     "name": "stdout",
     "output_type": "stream",
     "text": [
      "time: 5.07 ms\n"
     ]
    }
   ],
   "source": [
    "median_salary, len(df)"
   ]
  },
  {
   "cell_type": "markdown",
   "metadata": {},
   "source": [
    "### Feature Engineering\n",
    "Now it's time to think about what I can do with my existing features: Job, Company, Location, State, Description. I want to avoid features that would get too specific for the training set and wouldn't apply to the test set. With that said, I will eliminate the Job and Company features because they're not clean and too specific.\n",
    "\n",
    "My plan is, however, to use job titles to create more general features that I can flag for each job. I also will create a count vectorizer to pull in the descriptions."
   ]
  },
  {
   "cell_type": "markdown",
   "metadata": {},
   "source": [
    "#### Job Title Keywords"
   ]
  },
  {
   "cell_type": "code",
   "execution_count": 15,
   "metadata": {
    "focus": false,
    "id": "068dc1cf-7fd7-4f27-a1f1-7f0a5a221d29"
   },
   "outputs": [
    {
     "name": "stdout",
     "output_type": "stream",
     "text": [
      "time: 1.38 s\n"
     ]
    }
   ],
   "source": [
    "df.job = df.job.str.upper()\n",
    "df['analyst'] = 0\n",
    "df['analyst'][df.job.str.contains('ANALY')] = 1\n",
    "\n",
    "df['statistician'] = 0\n",
    "df['statistician'][df.job.str.contains('STATISTIC')] = 1\n",
    "\n",
    "df['machine_learning'] = 0\n",
    "df['machine_learning'][df.job.str.contains('MACHINE')] = 1\n",
    "\n",
    "df['research'] = 0\n",
    "df['research'][df.job.str.contains('RESEARCH')] = 1\n",
    "\n",
    "df['science'] = 0\n",
    "df['science'][df.job.str.contains('SCIEN')] = 1\n",
    "\n",
    "df['engineer'] = 0\n",
    "df['engineer'][df.job.str.contains('ENGIN')] = 1\n",
    "\n",
    "df['entry_level'] = 0\n",
    "df['entry_level'][df.job.str.contains('\\WI\\W')] = 1\n",
    "df['entry_level'][df.job.str.contains('\\WI$')] = 1\n",
    "df['entry_level'][df.job.str.contains('ENTRY_LEVEL')] = 1\n",
    "df['entry_level'][df.job.str.contains('1')] = 1\n",
    "\n",
    "df['mid_level'] = 0\n",
    "df['mid_level'][df.job.str.contains('MANAGER')] = 1\n",
    "df['mid_level'][df.job.str.contains('MID_LEVEL')] = 1\n",
    "df['mid_level'][df.job.str.contains('\\WII\\W')] = 1\n",
    "df['mid_level'][df.job.str.contains('\\WII$')] = 1\n",
    "df['mid_level'][df.job.str.contains('2')] = 1\n",
    "df['mid_level'][df.job.str.contains('ASSISTANT')] = 1\n",
    "\n",
    "df['senior_level'] = 0\n",
    "df['senior_level'][df.job.str.contains('\\WIII\\W')] = 1\n",
    "df['senior_level'][df.job.str.contains('\\WIII$')] = 1\n",
    "df['senior_level'][df.job.str.contains('3')] = 1\n",
    "df['senior_level'][df.job.str.contains('SR\\W')] = 1\n",
    "df['senior_level'][df.job.str.contains('SENIOR')] = 1\n",
    "df['senior_level'][df.job.str.contains('LEAD')] = 1\n",
    "df['senior_level'][df.job.str.contains('PRINCIPAL')] = 1\n",
    "df['senior_level'][df.job.str.contains('DIRECTOR')] = 1\n"
   ]
  },
  {
   "cell_type": "markdown",
   "metadata": {},
   "source": [
    "#### Job Description - Count Vectorizer"
   ]
  },
  {
   "cell_type": "code",
   "execution_count": 16,
   "metadata": {},
   "outputs": [
    {
     "data": {
      "text/plain": [
       "CountVectorizer(analyzer=u'word', binary=False, decode_error=u'strict',\n",
       "        dtype=<type 'numpy.int64'>, encoding=u'utf-8', input=u'content',\n",
       "        lowercase=True, max_df=1.0, max_features=None, min_df=1,\n",
       "        ngram_range=(1, 1), preprocessor=None, stop_words='english',\n",
       "        strip_accents=None, token_pattern=u'(?u)\\\\b\\\\w\\\\w+\\\\b',\n",
       "        tokenizer=None, vocabulary=None)"
      ]
     },
     "execution_count": 16,
     "metadata": {},
     "output_type": "execute_result"
    },
    {
     "name": "stdout",
     "output_type": "stream",
     "text": [
      "time: 1.34 s\n"
     ]
    }
   ],
   "source": [
    "import pandas as pd\n",
    "from sklearn.feature_extraction.text import CountVectorizer\n",
    "\n",
    "df.reset_index(inplace=True)\n",
    "\n",
    "df.fillna('None',inplace=True)\n",
    "\n",
    "cvec = CountVectorizer(stop_words='english')\n",
    "cvec.fit(df['description'])"
   ]
  },
  {
   "cell_type": "code",
   "execution_count": 18,
   "metadata": {},
   "outputs": [
    {
     "name": "stdout",
     "output_type": "stream",
     "text": [
      "time: 103 ms\n"
     ]
    }
   ],
   "source": [
    "cvec_table  = pd.DataFrame(cvec.transform(df['description']).todense(),\n",
    "             columns=cvec.get_feature_names())"
   ]
  },
  {
   "cell_type": "code",
   "execution_count": 19,
   "metadata": {},
   "outputs": [
    {
     "name": "stdout",
     "output_type": "stream",
     "text": [
      "time: 654 ms\n"
     ]
    }
   ],
   "source": [
    "from sklearn.preprocessing import StandardScaler \n",
    "\n",
    "scale_me = []\n",
    "dont_scale_me = []\n",
    "\n",
    "for col in cvec_table.columns:\n",
    "    if cvec_table[col].max() > 1:\n",
    "        scale_me.append(col)\n",
    "    else:\n",
    "        dont_scale_me.append(col)\n",
    "        \n",
    "\n",
    "ss = pd.DataFrame(StandardScaler().fit_transform(cvec_table[scale_me]),columns=scale_me)\n",
    "cvec = pd.merge(cvec_table[dont_scale_me],ss,right_index=True, left_index=True)"
   ]
  },
  {
   "cell_type": "code",
   "execution_count": 20,
   "metadata": {},
   "outputs": [
    {
     "name": "stdout",
     "output_type": "stream",
     "text": [
      "time: 3.21 ms\n"
     ]
    }
   ],
   "source": [
    "include = df.columns.drop(['location','state','index','job','company','salary','description','salary_list','low_end','high_end','salary_clean','high_salary'])"
   ]
  },
  {
   "cell_type": "code",
   "execution_count": 21,
   "metadata": {},
   "outputs": [
    {
     "name": "stdout",
     "output_type": "stream",
     "text": [
      "time: 14.2 ms\n"
     ]
    }
   ],
   "source": [
    "new_df = pd.merge(df[include],cvec,right_index=True, left_index=True)"
   ]
  },
  {
   "cell_type": "markdown",
   "metadata": {},
   "source": [
    "## Step IV. Feature Selection"
   ]
  },
  {
   "cell_type": "code",
   "execution_count": 22,
   "metadata": {},
   "outputs": [
    {
     "name": "stdout",
     "output_type": "stream",
     "text": [
      "time: 358 ms\n"
     ]
    }
   ],
   "source": [
    "import pandas as pd\n",
    "from sklearn.model_selection import cross_val_score, train_test_split\n",
    "\n",
    "# set y\n",
    "y = df.high_salary"
   ]
  },
  {
   "cell_type": "code",
   "execution_count": 23,
   "metadata": {
    "focus": false,
    "id": "b76f65cd-cd3a-4e91-af55-12880be7b057"
   },
   "outputs": [
    {
     "name": "stdout",
     "output_type": "stream",
     "text": [
      "time: 104 ms\n"
     ]
    }
   ],
   "source": [
    "X = new_df\n",
    "y = df.high_salary\n",
    "X_train, X_test, y_train, y_test = train_test_split(X, y, test_size=0.33, random_state=42)"
   ]
  },
  {
   "cell_type": "markdown",
   "metadata": {},
   "source": [
    "Now I'm going to look at RandomForest, ExtraTrees and check out the feature importance. I'll experiment with the number of features to use, and with bagging and boosting. I'll also use these features back on Logistic Regression, since it doesn't have the feature_importances attribute."
   ]
  },
  {
   "cell_type": "code",
   "execution_count": 24,
   "metadata": {},
   "outputs": [
    {
     "name": "stdout",
     "output_type": "stream",
     "text": [
      "time: 713 ms\n"
     ]
    }
   ],
   "source": [
    "from sklearn.linear_model import LogisticRegression\n",
    "from sklearn.ensemble import RandomForestClassifier, ExtraTreesClassifier, BaggingClassifier, AdaBoostClassifier"
   ]
  },
  {
   "cell_type": "code",
   "execution_count": 25,
   "metadata": {},
   "outputs": [
    {
     "name": "stdout",
     "output_type": "stream",
     "text": [
      "time: 57.4 ms\n"
     ]
    }
   ],
   "source": [
    "def test_features(model,X_train,y_train):\n",
    "    model.fit(X_train,y_train)\n",
    "    features = pd.DataFrame(sorted(zip(model.feature_importances_,X.columns), key=lambda pair: pair[0], reverse=True),columns=['Importance','Feature'])\n",
    "    \n",
    "    for nums in [len(features),500,300,200,100,60,30,20]:   \n",
    "        X_train_new = X_train[features.Feature[0:nums]]\n",
    "        s = cross_val_score(model, X_train_new, y_train, cv=5, n_jobs=-1)\n",
    "\n",
    "        print '0:',nums,'--', s.mean().round(3), s.std().round(3)\n",
    "\n",
    "    print\n",
    "    print 'try with Bagging:'\n",
    "    for nums in [len(features),500,300,200,100,60,30,20]:   \n",
    "        X_train_new = X_train[features.Feature[0:nums]]\n",
    "        s = cross_val_score(BaggingClassifier(model), X_train_new, y_train, cv=5, n_jobs=-1)\n",
    "\n",
    "        print '0:',nums,'--', s.mean().round(3), s.std().round(3)\n",
    "\n",
    "#     print\n",
    "#     print 'try with AdaBoost:'\n",
    "#     for nums in [len(features),500,300,200,100,60,30,20]:   \n",
    "#         X_train_new = X_train[features.Feature[0:nums]]\n",
    "#         s = cross_val_score(AdaBoostClassifier(model), X_train_new, y_train, cv=5, n_jobs=-1)\n",
    "\n",
    "#         print '0:',nums,'--', s.mean().round(3), s.std().round(3)\n",
    "            \n",
    "    print\n",
    "    print 'try with Logistic Regression:'\n",
    "    for nums in [len(features),500,300,200,100,60,30,20]:   \n",
    "        X_train_new = X_train[features.Feature[0:nums]]\n",
    "        s = cross_val_score(LogisticRegression(), X_train_new, y_train, cv=5, n_jobs=-1)\n",
    "\n",
    "        print '0:',nums,'--', s.mean().round(3), s.std().round(3)\n",
    "      \n",
    "    \n",
    "    print\n",
    "    print 'try with Logistic Regression & BAGGING:'\n",
    "    for nums in [len(features),500,300,200,100,60,30,20]:   \n",
    "        X_train_new = X_train[features.Feature[0:nums]]\n",
    "        s = cross_val_score(BaggingClassifier(LogisticRegression()), X_train_new, y_train, cv=5, n_jobs=-1)\n",
    "\n",
    "        print '0:',nums,'--', s.mean().round(3), s.std().round(3)        "
   ]
  },
  {
   "cell_type": "code",
   "execution_count": 26,
   "metadata": {},
   "outputs": [
    {
     "name": "stdout",
     "output_type": "stream",
     "text": [
      "0: 2120 -- 0.76 0.025\n",
      "0: 500 -- 0.776 0.038\n",
      "0: 300 -- 0.771 0.051\n",
      "0: 200 -- 0.771 0.037\n",
      "0: 100 -- 0.785 0.049\n",
      "0: 60 -- 0.78 0.026\n",
      "0: 30 -- 0.748 0.026\n",
      "0: 20 -- 0.767 0.034\n",
      "\n",
      "try with Bagging:\n",
      "0: 2120 -- 0.778 0.023\n",
      "0: 500 -- 0.808 0.022\n",
      "0: 300 -- 0.794 0.03\n",
      "0: 200 -- 0.799 0.008\n",
      "0: 100 -- 0.813 0.043\n",
      "0: 60 -- 0.796 0.036\n",
      "0: 30 -- 0.771 0.018\n",
      "0: 20 -- 0.785 0.03\n",
      "\n",
      "try with Logistic Regression:\n",
      "0: 2120 -- 0.757 0.028\n",
      "0: 500 -- 0.785 0.014\n",
      "0: 300 -- 0.787 0.022\n",
      "0: 200 -- 0.792 0.028\n",
      "0: 100 -- 0.78 0.042\n",
      "0: 60 -- 0.767 0.02\n",
      "0: 30 -- 0.771 0.022\n",
      "0: 20 -- 0.741 0.027\n",
      "\n",
      "try with Logistic Regression & BAGGING:\n",
      "0: 2120 -- 0.757 0.02\n",
      "0: 500 -- 0.764 0.021\n",
      "0: 300 -- 0.778 0.016\n",
      "0: 200 -- 0.774 0.04\n",
      "0: 100 -- 0.783 0.034\n",
      "0: 60 -- 0.771 0.039\n",
      "0: 30 -- 0.762 0.033\n",
      "0: 20 -- 0.746 0.019\n",
      "time: 47.3 s\n"
     ]
    }
   ],
   "source": [
    "test_features(RandomForestClassifier(),X_train,y_train)   "
   ]
  },
  {
   "cell_type": "code",
   "execution_count": 28,
   "metadata": {},
   "outputs": [
    {
     "name": "stdout",
     "output_type": "stream",
     "text": [
      "0: 2120 -- 0.629 0.028\n",
      "0: 500 -- 0.762 0.021\n",
      "0: 300 -- 0.767 0.024\n",
      "0: 200 -- 0.735 0.037\n",
      "0: 100 -- 0.725 0.023\n",
      "0: 60 -- 0.732 0.044\n",
      "0: 30 -- 0.707 0.043\n",
      "0: 20 -- 0.703 0.047\n",
      "\n",
      "try with Bagging:\n",
      "0: 2120 -- 0.558 0.052\n",
      "0: 500 -- 0.684 0.066\n",
      "0: 300 -- 0.712 0.05\n",
      "0: 200 -- 0.728 0.045\n",
      "0: 100 -- 0.746 0.034\n",
      "0: 60 -- 0.728 0.026\n",
      "0: 30 -- 0.725 0.025\n",
      "0: 20 -- 0.716 0.038\n",
      "\n",
      "try with Logistic Regression:\n",
      "0: 2120 -- 0.757 0.028\n",
      "0: 500 -- 0.769 0.027\n",
      "0: 300 -- 0.748 0.031\n",
      "0: 200 -- 0.746 0.043\n",
      "0: 100 -- 0.767 0.029\n",
      "0: 60 -- 0.753 0.026\n",
      "0: 30 -- 0.737 0.033\n",
      "0: 20 -- 0.737 0.036\n",
      "\n",
      "try with Logistic Regression & BAGGING:\n",
      "0: 2120 -- 0.755 0.026\n",
      "0: 500 -- 0.755 0.025\n",
      "0: 300 -- 0.739 0.022\n",
      "0: 200 -- 0.744 0.016\n",
      "0: 100 -- 0.757 0.013\n",
      "0: 60 -- 0.753 0.017\n",
      "0: 30 -- 0.723 0.033\n",
      "0: 20 -- 0.728 0.023\n",
      "time: 12min 50s\n"
     ]
    }
   ],
   "source": [
    "model = RandomForestClassifier(bootstrap= True, min_samples_leaf= 1, n_estimators= 300, min_samples_split= 2,criterion='entropy',max_features= 3, max_depth= 3)\n",
    "test_features(model,X_train,y_train)    "
   ]
  },
  {
   "cell_type": "code",
   "execution_count": 29,
   "metadata": {},
   "outputs": [
    {
     "name": "stdout",
     "output_type": "stream",
     "text": [
      "0: 2120 -- 0.753 0.016\n",
      "0: 500 -- 0.789 0.015\n",
      "0: 300 -- 0.803 0.034\n",
      "0: 200 -- 0.81 0.04\n",
      "0: 100 -- 0.785 0.038\n",
      "0: 60 -- 0.746 0.062\n",
      "0: 30 -- 0.771 0.04\n",
      "0: 20 -- 0.744 0.046\n",
      "\n",
      "try with Bagging:\n",
      "0: 2120 -- 0.783 0.015\n",
      "0: 500 -- 0.801 0.052\n",
      "0: 300 -- 0.808 0.049\n",
      "0: 200 -- 0.801 0.043\n",
      "0: 100 -- 0.806 0.043\n",
      "0: 60 -- 0.794 0.028\n",
      "0: 30 -- 0.764 0.046\n",
      "0: 20 -- 0.753 0.036\n",
      "\n",
      "try with Logistic Regression:\n",
      "0: 2120 -- 0.757 0.028\n",
      "0: 500 -- 0.785 0.03\n",
      "0: 300 -- 0.787 0.017\n",
      "0: 200 -- 0.792 0.028\n",
      "0: 100 -- 0.794 0.049\n",
      "0: 60 -- 0.794 0.037\n",
      "0: 30 -- 0.787 0.029\n",
      "0: 20 -- 0.769 0.029\n",
      "\n",
      "try with Logistic Regression & BAGGING:\n",
      "0: 2120 -- 0.746 0.024\n",
      "0: 500 -- 0.764 0.032\n",
      "0: 300 -- 0.753 0.031\n",
      "0: 200 -- 0.76 0.047\n",
      "0: 100 -- 0.774 0.056\n",
      "0: 60 -- 0.785 0.042\n",
      "0: 30 -- 0.783 0.038\n",
      "0: 20 -- 0.76 0.039\n",
      "time: 59.3 s\n"
     ]
    }
   ],
   "source": [
    "test_features(ExtraTreesClassifier(),X_train,y_train)   "
   ]
  },
  {
   "cell_type": "markdown",
   "metadata": {},
   "source": [
    "Let's check out feature importances for other classifiers"
   ]
  },
  {
   "cell_type": "code",
   "execution_count": 30,
   "metadata": {},
   "outputs": [
    {
     "name": "stdout",
     "output_type": "stream",
     "text": [
      "Nearest Neighbors\n",
      "==================\n",
      "0: 695 -- 0.666 0.051\n",
      "0: 500 -- 0.664 0.047\n",
      "0: 300 -- 0.643 0.022\n",
      "0: 200 -- 0.657 0.031\n",
      "0: 100 -- 0.673 0.032\n",
      "0: 60 -- 0.73 0.025\n",
      "0: 30 -- 0.73 0.048\n",
      "0: 20 -- 0.712 0.038\n",
      "\n",
      "\n",
      "Linear SVM\n",
      "==================\n",
      "0: 695 -- 0.734 0.043\n",
      "0: 500 -- 0.744 0.025\n",
      "0: 300 -- 0.744 0.03\n",
      "0: 200 -- 0.732 0.046\n",
      "0: 100 -- 0.739 0.02\n",
      "0: 60 -- 0.739 0.007\n",
      "0: 30 -- 0.742 0.025\n",
      "0: 20 -- 0.739 0.029\n",
      "\n",
      "\n",
      "RBF SVM\n",
      "==================\n",
      "0: 695 -- 0.579 0.016\n",
      "0: 500 -- 0.579 0.016\n",
      "0: 300 -- 0.583 0.021\n",
      "0: 200 -- 0.581 0.021\n",
      "0: 100 -- 0.577 0.029\n",
      "0: 60 -- 0.62 0.035\n",
      "0: 30 -- 0.652 0.03\n",
      "0: 20 -- 0.641 0.056\n",
      "\n",
      "\n",
      "Decision Tree\n",
      "==================\n",
      "0: 2120 -- 0.705 0.031\n",
      "0: 500 -- 0.721 0.029\n",
      "0: 300 -- 0.723 0.034\n",
      "0: 200 -- 0.723 0.038\n",
      "0: 100 -- 0.728 0.041\n",
      "0: 60 -- 0.728 0.041\n",
      "0: 30 -- 0.73 0.041\n",
      "0: 20 -- 0.737 0.041\n",
      "\n",
      "try with Bagging:\n",
      "0: 2120 -- 0.721 0.05\n",
      "0: 500 -- 0.739 0.033\n",
      "0: 300 -- 0.739 0.03\n",
      "0: 200 -- 0.748 0.027\n",
      "0: 100 -- 0.748 0.032\n",
      "0: 60 -- 0.746 0.04\n",
      "0: 30 -- 0.744 0.043\n",
      "0: 20 -- 0.719 0.031\n",
      "\n",
      "try with Logistic Regression:\n",
      "0: 2120 -- 0.757 0.028\n",
      "0: 500 -- 0.776 0.031\n",
      "0: 300 -- 0.749 0.046\n",
      "0: 200 -- 0.753 0.049\n",
      "0: 100 -- 0.749 0.048\n",
      "0: 60 -- 0.751 0.038\n",
      "0: 30 -- 0.742 0.048\n",
      "0: 20 -- 0.726 0.049\n",
      "\n",
      "try with Logistic Regression & BAGGING:\n",
      "0: 2120 -- 0.739 0.02\n",
      "0: 500 -- 0.778 0.031\n",
      "0: 300 -- 0.749 0.046\n",
      "0: 200 -- 0.753 0.032\n",
      "0: 100 -- 0.758 0.031\n",
      "0: 60 -- 0.753 0.035\n",
      "0: 30 -- 0.751 0.036\n",
      "0: 20 -- 0.735 0.031\n",
      "\n",
      "\n",
      "Naive Bayes\n",
      "==================\n",
      "0: 2120 -- 0.572 0.021\n",
      "0: 500 -- 0.609 0.041\n",
      "0: 300 -- 0.572 0.034\n",
      "0: 200 -- 0.698 0.009\n",
      "0: 100 -- 0.705 0.054\n",
      "0: 60 -- 0.694 0.068\n",
      "0: 30 -- 0.693 0.089\n",
      "0: 20 -- 0.718 0.04\n",
      "\n",
      "try with Bagging:\n",
      "0: 2120 -- 0.632 0.035\n",
      "0: 500 -- 0.677 0.039\n",
      "0: 300 -- 0.702 0.053\n",
      "0: 200 -- 0.748 0.03\n",
      "0: 100 -- 0.753 0.024\n",
      "0: 60 -- 0.737 0.031\n",
      "0: 30 -- 0.73 0.038\n",
      "0: 20 -- 0.718 0.037\n",
      "\n",
      "try with Logistic Regression:\n",
      "0: 2120 -- 0.757 0.028\n",
      "0: 500 -- 0.776 0.026\n",
      "0: 300 -- 0.748 0.018\n",
      "0: 200 -- 0.753 0.018\n",
      "0: 100 -- 0.755 0.01\n",
      "0: 60 -- 0.696 0.029\n",
      "0: 30 -- 0.702 0.036\n",
      "0: 20 -- 0.702 0.046\n",
      "\n",
      "try with Logistic Regression & BAGGING:\n",
      "0: 2120 -- 0.751 0.026\n",
      "0: 500 -- 0.764 0.037\n",
      "0: 300 -- 0.748 0.022\n",
      "0: 200 -- 0.744 0.008\n",
      "0: 100 -- 0.746 0.015\n",
      "0: 60 -- 0.696 0.02\n",
      "0: 30 -- 0.7 0.036\n",
      "0: 20 -- 0.698 0.044\n",
      "\n",
      "\n",
      "time: 1min 11s\n"
     ]
    }
   ],
   "source": [
    "from sklearn.neighbors import KNeighborsClassifier\n",
    "from sklearn.svm import SVC\n",
    "from sklearn.tree import DecisionTreeClassifier\n",
    "from sklearn.naive_bayes import GaussianNB\n",
    "\n",
    "\n",
    "names = [\"Nearest Neighbors\", \n",
    "         \"Linear SVM\",\n",
    "         \"RBF SVM\",\n",
    "         \"Decision Tree\",\n",
    "         \"Naive Bayes\"]\n",
    "classifiers = [\n",
    "    KNeighborsClassifier(5),\n",
    "    SVC(kernel=\"linear\", C=0.025),\n",
    "    SVC(gamma=2, C=1),\n",
    "    DecisionTreeClassifier(max_depth=5),\n",
    "    RandomForestClassifier(max_depth=5, n_estimators=10, max_features=1),\n",
    "    GaussianNB()]\n",
    "\n",
    "# a few of these classifiers don't have the feature_importances attribute, so we will use these features for them\n",
    "model = RandomForestClassifier().fit(X_train,y_train)\n",
    "features = pd.DataFrame(sorted(zip(model.feature_importances_,X.columns), key=lambda pair: pair[0], reverse=True),columns=['Importance','Feature'])\n",
    "features = features[features.Importance>0]\n",
    "\n",
    "for clf,name in zip(classifiers,names):\n",
    "    print name\n",
    "    print '=================='\n",
    "    try:\n",
    "        test_features(clf,X_train,y_train)\n",
    "    except:\n",
    "        for nums in [len(features),500,300,200,100,60,30,20]:   \n",
    "            X_train_new = X_train[features.Feature[0:nums]]\n",
    "            s = cross_val_score(clf, X_train_new, y_train, cv=5, n_jobs=-1)\n",
    "\n",
    "            print '0:',nums,'--', s.mean().round(3), s.std().round(3)\n",
    "\n",
    "    print\n",
    "    print"
   ]
  },
  {
   "cell_type": "markdown",
   "metadata": {},
   "source": [
    "Generally, it seems like 100 features is a safe number to go with. I'll use a RF model to create a standard list of features to use."
   ]
  },
  {
   "cell_type": "code",
   "execution_count": 47,
   "metadata": {},
   "outputs": [
    {
     "name": "stdout",
     "output_type": "stream",
     "text": [
      "time: 1.56 s\n"
     ]
    }
   ],
   "source": [
    "model = RandomForestClassifier()\n",
    "model.fit(X_train,y_train)\n",
    "\n",
    "features = pd.DataFrame(sorted(zip(model.feature_importances_,X.columns), key=lambda pair: pair[0], reverse=True),columns=['Importance','Feature'])\n",
    "X_new = X[features.Feature[0:100]]\n",
    "\n",
    "X_train, X_test, y_train, y_test = train_test_split(X_new, y,stratify=y, test_size=0.33, random_state=42)"
   ]
  },
  {
   "cell_type": "markdown",
   "metadata": {},
   "source": [
    "## Step V. Modeling"
   ]
  },
  {
   "cell_type": "markdown",
   "metadata": {},
   "source": [
    "With the list of 100 features, test out more models."
   ]
  },
  {
   "cell_type": "code",
   "execution_count": 48,
   "metadata": {},
   "outputs": [
    {
     "name": "stdout",
     "output_type": "stream",
     "text": [
      "LR: 0.770303 (0.044861)\n",
      "LDA: 0.742774 (0.047512)\n",
      "KNN: 0.641399 (0.068718)\n",
      "CART: 0.707436 (0.055631)\n",
      "RF: 0.777925 (0.040900)\n",
      "RF_B: 0.784079 (0.044139)\n",
      "NB: 0.739510 (0.068383)\n",
      "SVM: 0.727669 (0.061613)\n"
     ]
    },
    {
     "data": {
      "image/png": "[encoded data removed]",
      "text/plain": [
       "<matplotlib.figure.Figure at 0x11972e9d0>"
      ]
     },
     "metadata": {},
     "output_type": "display_data"
    },
    {
     "name": "stdout",
     "output_type": "stream",
     "text": [
      "time: 34.5 s\n"
     ]
    }
   ],
   "source": [
    "# Compare Algorithms\n",
    "import pandas\n",
    "import matplotlib.pyplot as plt\n",
    "from sklearn import model_selection\n",
    "from sklearn.linear_model import LogisticRegression\n",
    "from sklearn.tree import DecisionTreeClassifier\n",
    "from sklearn.neighbors import KNeighborsClassifier\n",
    "from sklearn.discriminant_analysis import LinearDiscriminantAnalysis\n",
    "from sklearn.naive_bayes import GaussianNB\n",
    "from sklearn.svm import SVC\n",
    "# prepare configuration for cross validation test harness\n",
    "seed = 42\n",
    "# prepare models\n",
    "models = []\n",
    "models.append(('LR', LogisticRegression()))\n",
    "models.append(('LDA', LinearDiscriminantAnalysis()))\n",
    "models.append(('KNN', KNeighborsClassifier()))\n",
    "models.append(('CART', DecisionTreeClassifier()))\n",
    "models.append(('RF', RandomForestClassifier()))\n",
    "models.append(('RF_B', BaggingClassifier(RandomForestClassifier())))\n",
    "models.append(('NB', GaussianNB()))\n",
    "models.append(('SVM', SVC()))\n",
    "# evaluate each model in turn\n",
    "results = []\n",
    "names = []\n",
    "scoring = 'accuracy'\n",
    "for name, model in models:\n",
    "    kfold = model_selection.KFold(n_splits=10, random_state=seed)\n",
    "    cv_results = model_selection.cross_val_score(model, X, y, cv=kfold, scoring=scoring)\n",
    "    results.append(cv_results)\n",
    "    names.append(name)\n",
    "    msg = \"%s: %f (%f)\" % (name, cv_results.mean(), cv_results.std())\n",
    "    print(msg)\n",
    "# boxplot algorithm comparison\n",
    "fig = plt.figure()\n",
    "fig.suptitle('Algorithm Comparison')\n",
    "ax = fig.add_subplot(111)\n",
    "plt.boxplot(results)\n",
    "ax.set_xticklabels(names)\n",
    "plt.show()"
   ]
  },
  {
   "cell_type": "markdown",
   "metadata": {
    "collapsed": true
   },
   "source": [
    "#### After trying out several models, I'm going to settle on a RandomForest with Bagging, using the top 100 features (by importance)"
   ]
  },
  {
   "cell_type": "code",
   "execution_count": 49,
   "metadata": {},
   "outputs": [
    {
     "name": "stdout",
     "output_type": "stream",
     "text": [
      "0.787 0.049\n",
      "time: 12.9 s\n"
     ]
    }
   ],
   "source": [
    "model = RandomForestClassifier(bootstrap=True,n_estimators= 300, min_samples_split= 2, criterion= 'entropy',max_features= 3, max_depth= 3)\n",
    "model = BaggingClassifier(model)\n",
    "model.fit(X_train,y_train)\n",
    "\n",
    "print s.mean().round(3), s.std().round(3)"
   ]
  },
  {
   "cell_type": "markdown",
   "metadata": {},
   "source": [
    "## Step VI. Evaluate Model"
   ]
  },
  {
   "cell_type": "code",
   "execution_count": 52,
   "metadata": {},
   "outputs": [
    {
     "name": "stdout",
     "output_type": "stream",
     "text": [
      "             precision    recall  f1-score   support\n",
      "\n",
      "          0       0.78      0.78      0.78       108\n",
      "          1       0.78      0.78      0.78       108\n",
      "\n",
      "avg / total       0.78      0.78      0.78       216\n",
      "\n"
     ]
    },
    {
     "data": {
      "text/html": [
       "<div>\n",
       "<style>\n",
       "    .dataframe thead tr:only-child th {\n",
       "        text-align: right;\n",
       "    }\n",
       "\n",
       "    .dataframe thead th {\n",
       "        text-align: left;\n",
       "    }\n",
       "\n",
       "    .dataframe tbody tr th {\n",
       "        vertical-align: top;\n",
       "    }\n",
       "</style>\n",
       "<table border=\"1\" class=\"dataframe\">\n",
       "  <thead>\n",
       "    <tr style=\"text-align: right;\">\n",
       "      <th></th>\n",
       "      <th>Predicted No</th>\n",
       "      <th>Predicted Yes</th>\n",
       "    </tr>\n",
       "  </thead>\n",
       "  <tbody>\n",
       "    <tr>\n",
       "      <th>Actual No</th>\n",
       "      <td>84</td>\n",
       "      <td>24</td>\n",
       "    </tr>\n",
       "    <tr>\n",
       "      <th>Actual Yes</th>\n",
       "      <td>24</td>\n",
       "      <td>84</td>\n",
       "    </tr>\n",
       "  </tbody>\n",
       "</table>\n",
       "</div>"
      ],
      "text/plain": [
       "            Predicted No  Predicted Yes\n",
       "Actual No             84             24\n",
       "Actual Yes            24             84"
      ]
     },
     "metadata": {},
     "output_type": "display_data"
    },
    {
     "name": "stdout",
     "output_type": "stream",
     "text": [
      "time: 2.42 s\n"
     ]
    }
   ],
   "source": [
    "from __future__ import division\n",
    "def do_cm_cr(model):\n",
    "    from sklearn.metrics import accuracy_score, precision_score, recall_score, confusion_matrix, classification_report\n",
    "\n",
    "    expected = y_test\n",
    "    predicted = model.predict(X_test)\n",
    "    c_report = classification_report(expected, predicted)\n",
    "#     c_report = pd.DataFrame(c_report)\n",
    "    c_matrix = pd.DataFrame(confusion_matrix(y_test, predicted),columns=['Predicted No','Predicted Yes'],index=['Actual No','Actual Yes'])\n",
    "#     return c_report, c_matrix\n",
    "    from IPython.display import display\n",
    "\n",
    "    print c_report\n",
    "    TP = c_matrix['Predicted Yes'][1]\n",
    "    FP = c_matrix['Predicted Yes'][0]\n",
    "    TN = c_matrix['Predicted No'][1]\n",
    "    FN = c_matrix['Predicted No'][0]\n",
    "    N = TP + FP + TN + FN\n",
    "    display(c_matrix)\n",
    "#     print 'TP:', TP\n",
    "#     print 'FP:', FP\n",
    "#     print 'TN:', TN\n",
    "#     print 'FN:', FN\n",
    " \n",
    "do_cm_cr(model)"
   ]
  },
  {
   "cell_type": "code",
   "execution_count": 51,
   "metadata": {},
   "outputs": [
    {
     "data": {
      "text/plain": [
       "0.77777777777777779"
      ]
     },
     "execution_count": 51,
     "metadata": {},
     "output_type": "execute_result"
    },
    {
     "name": "stdout",
     "output_type": "stream",
     "text": [
      "time: 2.28 s\n"
     ]
    }
   ],
   "source": [
    "model.score(X_test,y_test)"
   ]
  },
  {
   "cell_type": "markdown",
   "metadata": {
    "collapsed": true
   },
   "source": [
    "## Results:\n",
    "\n",
    "My model is able to predict whether or not a job posting will have a salary that's above or below the median by using the job title and description with about 78% precision.\n",
    "\n",
    "I have worked and reworked this project multiple times and have resulted with scores far lower than 78%, so I'm pretty happy with this. I think it's safe to say that more training data is needed to improve this model. "
   ]
  }
 ],
 "metadata": {
  "anaconda-cloud": {},
  "kernelspec": {
   "display_name": "Python 2",
   "language": "python",
   "name": "python2"
  },
  "language_info": {
   "codemirror_mode": {
    "name": "ipython",
    "version": 2
   },
   "file_extension": ".py",
   "mimetype": "text/x-python",
   "name": "python",
   "nbconvert_exporter": "python",
   "pygments_lexer": "ipython2",
   "version": "2.7.13"
  }
 },
 "nbformat": 4,
 "nbformat_minor": 1
}
